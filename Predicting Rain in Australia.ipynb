{
  "nbformat": 4,
  "nbformat_minor": 0,
  "metadata": {
    "colab": {
      "name": "A4-Soni-Shirish.ipynb",
      "provenance": [],
      "collapsed_sections": []
    },
    "kernelspec": {
      "name": "python3",
      "display_name": "Python 3"
    }
  },
  "cells": [
    {
      "cell_type": "markdown",
      "metadata": {
        "id": "suJGR-IOH4Wu",
        "colab_type": "text"
      },
      "source": [
        "#Predicting Rain in Australia\n",
        "\n",
        "# Data Selection\n",
        "\n",
        ">I have selected [Rain in Australia](https://www.kaggle.com/jsphyg/weather-dataset-rattle-package) kaggle dataset for this assignment. The reason behind selecting this dataset is it contains both numeric and categorical data. Most of the real-world does not have any particular kind of data and this dataset is a good example of that. This gives a really good opportunity to understand real-world problems and ways to tackle them using data science.\n",
        "\n",
        ">The dataset provides daily weather information from multiple weather stations across Australia between 2008 to 2017.\n",
        "\n",
        ">The dataset is provided in CSV format which removes the initial step of converting the dataset into the desired format before loading in the Pandas Dataframe.\n",
        "\n",
        ">After a glance at the dataset, it can be inferred that operations such as null value removal, dropping irrelevant columns and reformatting data columns needs to perform on the data.\n",
        "\n"
      ]
    },
    {
      "cell_type": "code",
      "metadata": {
        "id": "Xgs1vaTF4ftV",
        "colab_type": "code",
        "colab": {}
      },
      "source": [
        "import pandas as pd\n",
        "import numpy as np\n",
        "from scipy import stats\n",
        "import seaborn as sns\n",
        "import time\n",
        "import matplotlib.pyplot as plt\n",
        "\n",
        "from sklearn.preprocessing import MinMaxScaler\n",
        "\n",
        "from sklearn.model_selection import train_test_split\n",
        "\n",
        "from sklearn.feature_selection import SelectKBest\n",
        "from sklearn.feature_selection import chi2\n",
        "\n",
        "from sklearn.linear_model import LogisticRegression\n",
        "\n",
        "from sklearn.metrics import confusion_matrix\n",
        "from sklearn.metrics import accuracy_score"
      ],
      "execution_count": 0,
      "outputs": []
    },
    {
      "cell_type": "code",
      "metadata": {
        "id": "RqyweiX74lLy",
        "colab_type": "code",
        "colab": {
          "base_uri": "https://localhost:8080/",
          "height": 129
        },
        "outputId": "6e572c98-543a-4dc6-839d-ab76b233916d"
      },
      "source": [
        "from google.colab import drive\n",
        "drive.mount('/content/drive')\n"
      ],
      "execution_count": 2,
      "outputs": [
        {
          "output_type": "stream",
          "text": [
            "Go to this URL in a browser: https://accounts.google.com/o/oauth2/auth?client_id=947318989803-6bn6qk8qdgf4n4g3pfee6491hc0brc4i.apps.googleusercontent.com&redirect_uri=urn%3aietf%3awg%3aoauth%3a2.0%3aoob&response_type=code&scope=email%20https%3a%2f%2fwww.googleapis.com%2fauth%2fdocs.test%20https%3a%2f%2fwww.googleapis.com%2fauth%2fdrive%20https%3a%2f%2fwww.googleapis.com%2fauth%2fdrive.photos.readonly%20https%3a%2f%2fwww.googleapis.com%2fauth%2fpeopleapi.readonly\n",
            "\n",
            "Enter your authorization code:\n",
            "··········\n",
            "Mounted at /content/drive\n"
          ],
          "name": "stdout"
        }
      ]
    },
    {
      "cell_type": "code",
      "metadata": {
        "id": "qqLjULJU4oZI",
        "colab_type": "code",
        "outputId": "d5d4c7a3-6bb9-4d60-b377-9560ed662f0d",
        "colab": {
          "base_uri": "https://localhost:8080/",
          "height": 35
        }
      },
      "source": [
        "cd drive/My Drive/Colab Notebooks/Data Analysis"
      ],
      "execution_count": 3,
      "outputs": [
        {
          "output_type": "stream",
          "text": [
            "/content/drive/My Drive/Colab Notebooks/Data Analysis\n"
          ],
          "name": "stdout"
        }
      ]
    },
    {
      "cell_type": "code",
      "metadata": {
        "id": "7gmsxPYqB0Rj",
        "colab_type": "code",
        "colab": {}
      },
      "source": [
        "WeatherData = pd.read_csv('weatherAUS.csv')"
      ],
      "execution_count": 0,
      "outputs": []
    },
    {
      "cell_type": "markdown",
      "metadata": {
        "id": "LaU3r7PWHANR",
        "colab_type": "text"
      },
      "source": [
        "#Data Scrubbing and Formatting\n",
        "\n",
        "The data has been loaded into Pandas dataframe. Now, let's look at the first and last few rows of the data to conduct the initial analysis.\n"
      ]
    },
    {
      "cell_type": "code",
      "metadata": {
        "id": "ZoJd4Az3I9Z3",
        "colab_type": "code",
        "colab": {
          "base_uri": "https://localhost:8080/",
          "height": 550
        },
        "outputId": "42b713d5-f958-4271-f38e-77cba353df25"
      },
      "source": [
        "# Looking at the size of the dataset\n",
        "WeatherData.info()"
      ],
      "execution_count": 5,
      "outputs": [
        {
          "output_type": "stream",
          "text": [
            "<class 'pandas.core.frame.DataFrame'>\n",
            "RangeIndex: 142193 entries, 0 to 142192\n",
            "Data columns (total 24 columns):\n",
            "Date             142193 non-null object\n",
            "Location         142193 non-null object\n",
            "MinTemp          141556 non-null float64\n",
            "MaxTemp          141871 non-null float64\n",
            "Rainfall         140787 non-null float64\n",
            "Evaporation      81350 non-null float64\n",
            "Sunshine         74377 non-null float64\n",
            "WindGustDir      132863 non-null object\n",
            "WindGustSpeed    132923 non-null float64\n",
            "WindDir9am       132180 non-null object\n",
            "WindDir3pm       138415 non-null object\n",
            "WindSpeed9am     140845 non-null float64\n",
            "WindSpeed3pm     139563 non-null float64\n",
            "Humidity9am      140419 non-null float64\n",
            "Humidity3pm      138583 non-null float64\n",
            "Pressure9am      128179 non-null float64\n",
            "Pressure3pm      128212 non-null float64\n",
            "Cloud9am         88536 non-null float64\n",
            "Cloud3pm         85099 non-null float64\n",
            "Temp9am          141289 non-null float64\n",
            "Temp3pm          139467 non-null float64\n",
            "RainToday        140787 non-null object\n",
            "RISK_MM          142193 non-null float64\n",
            "RainTomorrow     142193 non-null object\n",
            "dtypes: float64(17), object(7)\n",
            "memory usage: 26.0+ MB\n"
          ],
          "name": "stdout"
        }
      ]
    },
    {
      "cell_type": "markdown",
      "metadata": {
        "id": "vLazIDqpJHc8",
        "colab_type": "text"
      },
      "source": [
        "The dataset consists of almost 142K data rows and has 24 data features. Now lets look at each columns in detail."
      ]
    },
    {
      "cell_type": "code",
      "metadata": {
        "id": "NuUWAZh2JUg6",
        "colab_type": "code",
        "colab": {
          "base_uri": "https://localhost:8080/",
          "height": 476
        },
        "outputId": "39b40328-775c-4d28-a27c-b827530e1036"
      },
      "source": [
        "# Get the total number of data rows for each column\n",
        "WeatherData.count()"
      ],
      "execution_count": 6,
      "outputs": [
        {
          "output_type": "execute_result",
          "data": {
            "text/plain": [
              "Date             142193\n",
              "Location         142193\n",
              "MinTemp          141556\n",
              "MaxTemp          141871\n",
              "Rainfall         140787\n",
              "Evaporation       81350\n",
              "Sunshine          74377\n",
              "WindGustDir      132863\n",
              "WindGustSpeed    132923\n",
              "WindDir9am       132180\n",
              "WindDir3pm       138415\n",
              "WindSpeed9am     140845\n",
              "WindSpeed3pm     139563\n",
              "Humidity9am      140419\n",
              "Humidity3pm      138583\n",
              "Pressure9am      128179\n",
              "Pressure3pm      128212\n",
              "Cloud9am          88536\n",
              "Cloud3pm          85099\n",
              "Temp9am          141289\n",
              "Temp3pm          139467\n",
              "RainToday        140787\n",
              "RISK_MM          142193\n",
              "RainTomorrow     142193\n",
              "dtype: int64"
            ]
          },
          "metadata": {
            "tags": []
          },
          "execution_count": 6
        }
      ]
    },
    {
      "cell_type": "markdown",
      "metadata": {
        "id": "z9_18ePvHI3y",
        "colab_type": "text"
      },
      "source": [
        "We can see here there are 4 columns which have a lot of missing values and we need to drop those because they might affect the model. These columns are 'Evaporation', 'Sunshine', 'Cloud9am' and 'Cloud3pm'.\n",
        "\n",
        "Also, we don't need 'Location' data because the data is about Australia and we are trying to predict the weather of Australia and not of any specific location."
      ]
    },
    {
      "cell_type": "code",
      "metadata": {
        "id": "Xxsz9n5hJ9iJ",
        "colab_type": "code",
        "colab": {}
      },
      "source": [
        "# Dropping irrelevant columns\n",
        "WeatherData = WeatherData.drop(columns=['Sunshine','Evaporation','Cloud3pm','Cloud9am','Location'],axis=1)"
      ],
      "execution_count": 0,
      "outputs": []
    },
    {
      "cell_type": "code",
      "metadata": {
        "id": "JuXvA0GrBmNK",
        "colab_type": "code",
        "colab": {
          "base_uri": "https://localhost:8080/",
          "height": 206
        },
        "outputId": "1c007812-bf3b-4148-a552-26a67c912d2e"
      },
      "source": [
        "# Looking at first 5 rows of the dataset\n",
        "WeatherData.head()"
      ],
      "execution_count": 8,
      "outputs": [
        {
          "output_type": "execute_result",
          "data": {
            "text/html": [
              "<div>\n",
              "<style scoped>\n",
              "    .dataframe tbody tr th:only-of-type {\n",
              "        vertical-align: middle;\n",
              "    }\n",
              "\n",
              "    .dataframe tbody tr th {\n",
              "        vertical-align: top;\n",
              "    }\n",
              "\n",
              "    .dataframe thead th {\n",
              "        text-align: right;\n",
              "    }\n",
              "</style>\n",
              "<table border=\"1\" class=\"dataframe\">\n",
              "  <thead>\n",
              "    <tr style=\"text-align: right;\">\n",
              "      <th></th>\n",
              "      <th>Date</th>\n",
              "      <th>MinTemp</th>\n",
              "      <th>MaxTemp</th>\n",
              "      <th>Rainfall</th>\n",
              "      <th>WindGustDir</th>\n",
              "      <th>WindGustSpeed</th>\n",
              "      <th>WindDir9am</th>\n",
              "      <th>WindDir3pm</th>\n",
              "      <th>WindSpeed9am</th>\n",
              "      <th>WindSpeed3pm</th>\n",
              "      <th>Humidity9am</th>\n",
              "      <th>Humidity3pm</th>\n",
              "      <th>Pressure9am</th>\n",
              "      <th>Pressure3pm</th>\n",
              "      <th>Temp9am</th>\n",
              "      <th>Temp3pm</th>\n",
              "      <th>RainToday</th>\n",
              "      <th>RISK_MM</th>\n",
              "      <th>RainTomorrow</th>\n",
              "    </tr>\n",
              "  </thead>\n",
              "  <tbody>\n",
              "    <tr>\n",
              "      <th>0</th>\n",
              "      <td>2008-12-01</td>\n",
              "      <td>13.4</td>\n",
              "      <td>22.9</td>\n",
              "      <td>0.6</td>\n",
              "      <td>W</td>\n",
              "      <td>44.0</td>\n",
              "      <td>W</td>\n",
              "      <td>WNW</td>\n",
              "      <td>20.0</td>\n",
              "      <td>24.0</td>\n",
              "      <td>71.0</td>\n",
              "      <td>22.0</td>\n",
              "      <td>1007.7</td>\n",
              "      <td>1007.1</td>\n",
              "      <td>16.9</td>\n",
              "      <td>21.8</td>\n",
              "      <td>No</td>\n",
              "      <td>0.0</td>\n",
              "      <td>No</td>\n",
              "    </tr>\n",
              "    <tr>\n",
              "      <th>1</th>\n",
              "      <td>2008-12-02</td>\n",
              "      <td>7.4</td>\n",
              "      <td>25.1</td>\n",
              "      <td>0.0</td>\n",
              "      <td>WNW</td>\n",
              "      <td>44.0</td>\n",
              "      <td>NNW</td>\n",
              "      <td>WSW</td>\n",
              "      <td>4.0</td>\n",
              "      <td>22.0</td>\n",
              "      <td>44.0</td>\n",
              "      <td>25.0</td>\n",
              "      <td>1010.6</td>\n",
              "      <td>1007.8</td>\n",
              "      <td>17.2</td>\n",
              "      <td>24.3</td>\n",
              "      <td>No</td>\n",
              "      <td>0.0</td>\n",
              "      <td>No</td>\n",
              "    </tr>\n",
              "    <tr>\n",
              "      <th>2</th>\n",
              "      <td>2008-12-03</td>\n",
              "      <td>12.9</td>\n",
              "      <td>25.7</td>\n",
              "      <td>0.0</td>\n",
              "      <td>WSW</td>\n",
              "      <td>46.0</td>\n",
              "      <td>W</td>\n",
              "      <td>WSW</td>\n",
              "      <td>19.0</td>\n",
              "      <td>26.0</td>\n",
              "      <td>38.0</td>\n",
              "      <td>30.0</td>\n",
              "      <td>1007.6</td>\n",
              "      <td>1008.7</td>\n",
              "      <td>21.0</td>\n",
              "      <td>23.2</td>\n",
              "      <td>No</td>\n",
              "      <td>0.0</td>\n",
              "      <td>No</td>\n",
              "    </tr>\n",
              "    <tr>\n",
              "      <th>3</th>\n",
              "      <td>2008-12-04</td>\n",
              "      <td>9.2</td>\n",
              "      <td>28.0</td>\n",
              "      <td>0.0</td>\n",
              "      <td>NE</td>\n",
              "      <td>24.0</td>\n",
              "      <td>SE</td>\n",
              "      <td>E</td>\n",
              "      <td>11.0</td>\n",
              "      <td>9.0</td>\n",
              "      <td>45.0</td>\n",
              "      <td>16.0</td>\n",
              "      <td>1017.6</td>\n",
              "      <td>1012.8</td>\n",
              "      <td>18.1</td>\n",
              "      <td>26.5</td>\n",
              "      <td>No</td>\n",
              "      <td>1.0</td>\n",
              "      <td>No</td>\n",
              "    </tr>\n",
              "    <tr>\n",
              "      <th>4</th>\n",
              "      <td>2008-12-05</td>\n",
              "      <td>17.5</td>\n",
              "      <td>32.3</td>\n",
              "      <td>1.0</td>\n",
              "      <td>W</td>\n",
              "      <td>41.0</td>\n",
              "      <td>ENE</td>\n",
              "      <td>NW</td>\n",
              "      <td>7.0</td>\n",
              "      <td>20.0</td>\n",
              "      <td>82.0</td>\n",
              "      <td>33.0</td>\n",
              "      <td>1010.8</td>\n",
              "      <td>1006.0</td>\n",
              "      <td>17.8</td>\n",
              "      <td>29.7</td>\n",
              "      <td>No</td>\n",
              "      <td>0.2</td>\n",
              "      <td>No</td>\n",
              "    </tr>\n",
              "  </tbody>\n",
              "</table>\n",
              "</div>"
            ],
            "text/plain": [
              "         Date  MinTemp  MaxTemp  ...  RainToday RISK_MM  RainTomorrow\n",
              "0  2008-12-01     13.4     22.9  ...         No     0.0            No\n",
              "1  2008-12-02      7.4     25.1  ...         No     0.0            No\n",
              "2  2008-12-03     12.9     25.7  ...         No     0.0            No\n",
              "3  2008-12-04      9.2     28.0  ...         No     1.0            No\n",
              "4  2008-12-05     17.5     32.3  ...         No     0.2            No\n",
              "\n",
              "[5 rows x 19 columns]"
            ]
          },
          "metadata": {
            "tags": []
          },
          "execution_count": 8
        }
      ]
    },
    {
      "cell_type": "code",
      "metadata": {
        "id": "sPOtk7ItB5vG",
        "colab_type": "code",
        "colab": {
          "base_uri": "https://localhost:8080/",
          "height": 226
        },
        "outputId": "7348dca6-2983-4434-9f6a-5623acbda000"
      },
      "source": [
        "# Looking at last 5 rows of the dataset\n",
        "WeatherData.tail()"
      ],
      "execution_count": 9,
      "outputs": [
        {
          "output_type": "execute_result",
          "data": {
            "text/html": [
              "<div>\n",
              "<style scoped>\n",
              "    .dataframe tbody tr th:only-of-type {\n",
              "        vertical-align: middle;\n",
              "    }\n",
              "\n",
              "    .dataframe tbody tr th {\n",
              "        vertical-align: top;\n",
              "    }\n",
              "\n",
              "    .dataframe thead th {\n",
              "        text-align: right;\n",
              "    }\n",
              "</style>\n",
              "<table border=\"1\" class=\"dataframe\">\n",
              "  <thead>\n",
              "    <tr style=\"text-align: right;\">\n",
              "      <th></th>\n",
              "      <th>Date</th>\n",
              "      <th>MinTemp</th>\n",
              "      <th>MaxTemp</th>\n",
              "      <th>Rainfall</th>\n",
              "      <th>WindGustDir</th>\n",
              "      <th>WindGustSpeed</th>\n",
              "      <th>WindDir9am</th>\n",
              "      <th>WindDir3pm</th>\n",
              "      <th>WindSpeed9am</th>\n",
              "      <th>WindSpeed3pm</th>\n",
              "      <th>Humidity9am</th>\n",
              "      <th>Humidity3pm</th>\n",
              "      <th>Pressure9am</th>\n",
              "      <th>Pressure3pm</th>\n",
              "      <th>Temp9am</th>\n",
              "      <th>Temp3pm</th>\n",
              "      <th>RainToday</th>\n",
              "      <th>RISK_MM</th>\n",
              "      <th>RainTomorrow</th>\n",
              "    </tr>\n",
              "  </thead>\n",
              "  <tbody>\n",
              "    <tr>\n",
              "      <th>142188</th>\n",
              "      <td>2017-06-20</td>\n",
              "      <td>3.5</td>\n",
              "      <td>21.8</td>\n",
              "      <td>0.0</td>\n",
              "      <td>E</td>\n",
              "      <td>31.0</td>\n",
              "      <td>ESE</td>\n",
              "      <td>E</td>\n",
              "      <td>15.0</td>\n",
              "      <td>13.0</td>\n",
              "      <td>59.0</td>\n",
              "      <td>27.0</td>\n",
              "      <td>1024.7</td>\n",
              "      <td>1021.2</td>\n",
              "      <td>9.4</td>\n",
              "      <td>20.9</td>\n",
              "      <td>No</td>\n",
              "      <td>0.0</td>\n",
              "      <td>No</td>\n",
              "    </tr>\n",
              "    <tr>\n",
              "      <th>142189</th>\n",
              "      <td>2017-06-21</td>\n",
              "      <td>2.8</td>\n",
              "      <td>23.4</td>\n",
              "      <td>0.0</td>\n",
              "      <td>E</td>\n",
              "      <td>31.0</td>\n",
              "      <td>SE</td>\n",
              "      <td>ENE</td>\n",
              "      <td>13.0</td>\n",
              "      <td>11.0</td>\n",
              "      <td>51.0</td>\n",
              "      <td>24.0</td>\n",
              "      <td>1024.6</td>\n",
              "      <td>1020.3</td>\n",
              "      <td>10.1</td>\n",
              "      <td>22.4</td>\n",
              "      <td>No</td>\n",
              "      <td>0.0</td>\n",
              "      <td>No</td>\n",
              "    </tr>\n",
              "    <tr>\n",
              "      <th>142190</th>\n",
              "      <td>2017-06-22</td>\n",
              "      <td>3.6</td>\n",
              "      <td>25.3</td>\n",
              "      <td>0.0</td>\n",
              "      <td>NNW</td>\n",
              "      <td>22.0</td>\n",
              "      <td>SE</td>\n",
              "      <td>N</td>\n",
              "      <td>13.0</td>\n",
              "      <td>9.0</td>\n",
              "      <td>56.0</td>\n",
              "      <td>21.0</td>\n",
              "      <td>1023.5</td>\n",
              "      <td>1019.1</td>\n",
              "      <td>10.9</td>\n",
              "      <td>24.5</td>\n",
              "      <td>No</td>\n",
              "      <td>0.0</td>\n",
              "      <td>No</td>\n",
              "    </tr>\n",
              "    <tr>\n",
              "      <th>142191</th>\n",
              "      <td>2017-06-23</td>\n",
              "      <td>5.4</td>\n",
              "      <td>26.9</td>\n",
              "      <td>0.0</td>\n",
              "      <td>N</td>\n",
              "      <td>37.0</td>\n",
              "      <td>SE</td>\n",
              "      <td>WNW</td>\n",
              "      <td>9.0</td>\n",
              "      <td>9.0</td>\n",
              "      <td>53.0</td>\n",
              "      <td>24.0</td>\n",
              "      <td>1021.0</td>\n",
              "      <td>1016.8</td>\n",
              "      <td>12.5</td>\n",
              "      <td>26.1</td>\n",
              "      <td>No</td>\n",
              "      <td>0.0</td>\n",
              "      <td>No</td>\n",
              "    </tr>\n",
              "    <tr>\n",
              "      <th>142192</th>\n",
              "      <td>2017-06-24</td>\n",
              "      <td>7.8</td>\n",
              "      <td>27.0</td>\n",
              "      <td>0.0</td>\n",
              "      <td>SE</td>\n",
              "      <td>28.0</td>\n",
              "      <td>SSE</td>\n",
              "      <td>N</td>\n",
              "      <td>13.0</td>\n",
              "      <td>7.0</td>\n",
              "      <td>51.0</td>\n",
              "      <td>24.0</td>\n",
              "      <td>1019.4</td>\n",
              "      <td>1016.5</td>\n",
              "      <td>15.1</td>\n",
              "      <td>26.0</td>\n",
              "      <td>No</td>\n",
              "      <td>0.0</td>\n",
              "      <td>No</td>\n",
              "    </tr>\n",
              "  </tbody>\n",
              "</table>\n",
              "</div>"
            ],
            "text/plain": [
              "              Date  MinTemp  MaxTemp  ...  RainToday RISK_MM  RainTomorrow\n",
              "142188  2017-06-20      3.5     21.8  ...         No     0.0            No\n",
              "142189  2017-06-21      2.8     23.4  ...         No     0.0            No\n",
              "142190  2017-06-22      3.6     25.3  ...         No     0.0            No\n",
              "142191  2017-06-23      5.4     26.9  ...         No     0.0            No\n",
              "142192  2017-06-24      7.8     27.0  ...         No     0.0            No\n",
              "\n",
              "[5 rows x 19 columns]"
            ]
          },
          "metadata": {
            "tags": []
          },
          "execution_count": 9
        }
      ]
    },
    {
      "cell_type": "code",
      "metadata": {
        "id": "Za_2NcwqLLzn",
        "colab_type": "code",
        "colab": {
          "base_uri": "https://localhost:8080/",
          "height": 384
        },
        "outputId": "a58388ef-c20b-47dc-db28-367cf15d47b2"
      },
      "source": [
        "# Get the total number of data rows for each column\n",
        "WeatherData.count()"
      ],
      "execution_count": 10,
      "outputs": [
        {
          "output_type": "execute_result",
          "data": {
            "text/plain": [
              "Date             142193\n",
              "MinTemp          141556\n",
              "MaxTemp          141871\n",
              "Rainfall         140787\n",
              "WindGustDir      132863\n",
              "WindGustSpeed    132923\n",
              "WindDir9am       132180\n",
              "WindDir3pm       138415\n",
              "WindSpeed9am     140845\n",
              "WindSpeed3pm     139563\n",
              "Humidity9am      140419\n",
              "Humidity3pm      138583\n",
              "Pressure9am      128179\n",
              "Pressure3pm      128212\n",
              "Temp9am          141289\n",
              "Temp3pm          139467\n",
              "RainToday        140787\n",
              "RISK_MM          142193\n",
              "RainTomorrow     142193\n",
              "dtype: int64"
            ]
          },
          "metadata": {
            "tags": []
          },
          "execution_count": 10
        }
      ]
    },
    {
      "cell_type": "markdown",
      "metadata": {
        "id": "KSV3UbT_HRp4",
        "colab_type": "text"
      },
      "source": [
        "The dataset still has missing values. There are multiple ways to handle missing values, we can take average value of a column and then replace all the null values with it but in this case we cannot do that because the data consists of both numerical and categorical values and also as we are going to predict the possibility of rain, this might affect the accuracy of the model. We need only original data for modeling."
      ]
    },
    {
      "cell_type": "code",
      "metadata": {
        "id": "AsvliElgCHxa",
        "colab_type": "code",
        "colab": {}
      },
      "source": [
        "# Dropping all the missing data rows\n",
        "WeatherData = WeatherData.dropna(how='any')"
      ],
      "execution_count": 0,
      "outputs": []
    },
    {
      "cell_type": "code",
      "metadata": {
        "id": "siMH40a5KrdI",
        "colab_type": "code",
        "colab": {
          "base_uri": "https://localhost:8080/",
          "height": 384
        },
        "outputId": "715a8c6d-1b49-4ce7-e69f-ed7ab33078b8"
      },
      "source": [
        "# Get the total number of data rows for each column\n",
        "WeatherData.count()\n"
      ],
      "execution_count": 12,
      "outputs": [
        {
          "output_type": "execute_result",
          "data": {
            "text/plain": [
              "Date             112925\n",
              "MinTemp          112925\n",
              "MaxTemp          112925\n",
              "Rainfall         112925\n",
              "WindGustDir      112925\n",
              "WindGustSpeed    112925\n",
              "WindDir9am       112925\n",
              "WindDir3pm       112925\n",
              "WindSpeed9am     112925\n",
              "WindSpeed3pm     112925\n",
              "Humidity9am      112925\n",
              "Humidity3pm      112925\n",
              "Pressure9am      112925\n",
              "Pressure3pm      112925\n",
              "Temp9am          112925\n",
              "Temp3pm          112925\n",
              "RainToday        112925\n",
              "RISK_MM          112925\n",
              "RainTomorrow     112925\n",
              "dtype: int64"
            ]
          },
          "metadata": {
            "tags": []
          },
          "execution_count": 12
        }
      ]
    },
    {
      "cell_type": "markdown",
      "metadata": {
        "id": "efX4ul7fHXct",
        "colab_type": "text"
      },
      "source": [
        "Now all the columns have non-null values.\n",
        "\n",
        "Next thing we need to do is the 'RainToday' and 'RainTommorw' columns have 'Yes/No' values which can be converted to '0 and 1' which can help the model.\n"
      ]
    },
    {
      "cell_type": "code",
      "metadata": {
        "id": "fFSsMVrpK_0W",
        "colab_type": "code",
        "colab": {}
      },
      "source": [
        "# Replacing 'Yes/No' with '0 and 1'\n",
        "\n",
        "WeatherData['RainToday'].replace({'No': 0, 'Yes': 1},inplace = True)\n",
        "\n",
        "WeatherData['RainTomorrow'].replace({'No': 0, 'Yes': 1},inplace = True)\n"
      ],
      "execution_count": 0,
      "outputs": []
    },
    {
      "cell_type": "code",
      "metadata": {
        "id": "33J4TCkWNp-h",
        "colab_type": "code",
        "colab": {
          "base_uri": "https://localhost:8080/",
          "height": 300
        },
        "outputId": "0454a3fc-7f31-4949-d80d-ea4ffdc63765"
      },
      "source": [
        "# Minimum, maximum and standard deviation of the numeric columns\n",
        "WeatherData.describe()"
      ],
      "execution_count": 14,
      "outputs": [
        {
          "output_type": "execute_result",
          "data": {
            "text/html": [
              "<div>\n",
              "<style scoped>\n",
              "    .dataframe tbody tr th:only-of-type {\n",
              "        vertical-align: middle;\n",
              "    }\n",
              "\n",
              "    .dataframe tbody tr th {\n",
              "        vertical-align: top;\n",
              "    }\n",
              "\n",
              "    .dataframe thead th {\n",
              "        text-align: right;\n",
              "    }\n",
              "</style>\n",
              "<table border=\"1\" class=\"dataframe\">\n",
              "  <thead>\n",
              "    <tr style=\"text-align: right;\">\n",
              "      <th></th>\n",
              "      <th>MinTemp</th>\n",
              "      <th>MaxTemp</th>\n",
              "      <th>Rainfall</th>\n",
              "      <th>WindGustSpeed</th>\n",
              "      <th>WindSpeed9am</th>\n",
              "      <th>WindSpeed3pm</th>\n",
              "      <th>Humidity9am</th>\n",
              "      <th>Humidity3pm</th>\n",
              "      <th>Pressure9am</th>\n",
              "      <th>Pressure3pm</th>\n",
              "      <th>Temp9am</th>\n",
              "      <th>Temp3pm</th>\n",
              "      <th>RainToday</th>\n",
              "      <th>RISK_MM</th>\n",
              "      <th>RainTomorrow</th>\n",
              "    </tr>\n",
              "  </thead>\n",
              "  <tbody>\n",
              "    <tr>\n",
              "      <th>count</th>\n",
              "      <td>112925.000000</td>\n",
              "      <td>112925.000000</td>\n",
              "      <td>112925.000000</td>\n",
              "      <td>112925.000000</td>\n",
              "      <td>112925.000000</td>\n",
              "      <td>112925.000000</td>\n",
              "      <td>112925.000000</td>\n",
              "      <td>112925.000000</td>\n",
              "      <td>112925.000000</td>\n",
              "      <td>112925.000000</td>\n",
              "      <td>112925.000000</td>\n",
              "      <td>112925.000000</td>\n",
              "      <td>112925.000000</td>\n",
              "      <td>112925.000000</td>\n",
              "      <td>112925.000000</td>\n",
              "    </tr>\n",
              "    <tr>\n",
              "      <th>mean</th>\n",
              "      <td>12.664721</td>\n",
              "      <td>23.655670</td>\n",
              "      <td>2.377892</td>\n",
              "      <td>40.786611</td>\n",
              "      <td>15.179163</td>\n",
              "      <td>19.500545</td>\n",
              "      <td>67.404162</td>\n",
              "      <td>50.669055</td>\n",
              "      <td>1017.425847</td>\n",
              "      <td>1015.048962</td>\n",
              "      <td>17.462008</td>\n",
              "      <td>22.127306</td>\n",
              "      <td>0.224654</td>\n",
              "      <td>2.326032</td>\n",
              "      <td>0.221554</td>\n",
              "    </tr>\n",
              "    <tr>\n",
              "      <th>std</th>\n",
              "      <td>6.254135</td>\n",
              "      <td>6.982702</td>\n",
              "      <td>8.602968</td>\n",
              "      <td>13.321774</td>\n",
              "      <td>8.344304</td>\n",
              "      <td>8.580097</td>\n",
              "      <td>18.911610</td>\n",
              "      <td>20.768550</td>\n",
              "      <td>7.032654</td>\n",
              "      <td>6.957822</td>\n",
              "      <td>6.355045</td>\n",
              "      <td>6.837380</td>\n",
              "      <td>0.417356</td>\n",
              "      <td>8.517106</td>\n",
              "      <td>0.415294</td>\n",
              "    </tr>\n",
              "    <tr>\n",
              "      <th>min</th>\n",
              "      <td>-8.200000</td>\n",
              "      <td>2.600000</td>\n",
              "      <td>0.000000</td>\n",
              "      <td>7.000000</td>\n",
              "      <td>2.000000</td>\n",
              "      <td>2.000000</td>\n",
              "      <td>0.000000</td>\n",
              "      <td>0.000000</td>\n",
              "      <td>980.500000</td>\n",
              "      <td>977.100000</td>\n",
              "      <td>-3.100000</td>\n",
              "      <td>1.700000</td>\n",
              "      <td>0.000000</td>\n",
              "      <td>0.000000</td>\n",
              "      <td>0.000000</td>\n",
              "    </tr>\n",
              "    <tr>\n",
              "      <th>25%</th>\n",
              "      <td>8.100000</td>\n",
              "      <td>18.300000</td>\n",
              "      <td>0.000000</td>\n",
              "      <td>31.000000</td>\n",
              "      <td>9.000000</td>\n",
              "      <td>13.000000</td>\n",
              "      <td>56.000000</td>\n",
              "      <td>36.000000</td>\n",
              "      <td>1012.800000</td>\n",
              "      <td>1010.300000</td>\n",
              "      <td>12.700000</td>\n",
              "      <td>16.900000</td>\n",
              "      <td>0.000000</td>\n",
              "      <td>0.000000</td>\n",
              "      <td>0.000000</td>\n",
              "    </tr>\n",
              "    <tr>\n",
              "      <th>50%</th>\n",
              "      <td>12.400000</td>\n",
              "      <td>23.100000</td>\n",
              "      <td>0.000000</td>\n",
              "      <td>39.000000</td>\n",
              "      <td>13.000000</td>\n",
              "      <td>19.000000</td>\n",
              "      <td>68.000000</td>\n",
              "      <td>51.000000</td>\n",
              "      <td>1017.400000</td>\n",
              "      <td>1015.000000</td>\n",
              "      <td>17.100000</td>\n",
              "      <td>21.600000</td>\n",
              "      <td>0.000000</td>\n",
              "      <td>0.000000</td>\n",
              "      <td>0.000000</td>\n",
              "    </tr>\n",
              "    <tr>\n",
              "      <th>75%</th>\n",
              "      <td>17.200000</td>\n",
              "      <td>28.700000</td>\n",
              "      <td>0.800000</td>\n",
              "      <td>48.000000</td>\n",
              "      <td>20.000000</td>\n",
              "      <td>24.000000</td>\n",
              "      <td>81.000000</td>\n",
              "      <td>65.000000</td>\n",
              "      <td>1022.100000</td>\n",
              "      <td>1019.700000</td>\n",
              "      <td>22.000000</td>\n",
              "      <td>26.900000</td>\n",
              "      <td>0.000000</td>\n",
              "      <td>0.600000</td>\n",
              "      <td>0.000000</td>\n",
              "    </tr>\n",
              "    <tr>\n",
              "      <th>max</th>\n",
              "      <td>33.900000</td>\n",
              "      <td>48.100000</td>\n",
              "      <td>367.600000</td>\n",
              "      <td>135.000000</td>\n",
              "      <td>87.000000</td>\n",
              "      <td>87.000000</td>\n",
              "      <td>100.000000</td>\n",
              "      <td>100.000000</td>\n",
              "      <td>1041.000000</td>\n",
              "      <td>1039.600000</td>\n",
              "      <td>40.200000</td>\n",
              "      <td>46.700000</td>\n",
              "      <td>1.000000</td>\n",
              "      <td>371.000000</td>\n",
              "      <td>1.000000</td>\n",
              "    </tr>\n",
              "  </tbody>\n",
              "</table>\n",
              "</div>"
            ],
            "text/plain": [
              "             MinTemp        MaxTemp  ...        RISK_MM   RainTomorrow\n",
              "count  112925.000000  112925.000000  ...  112925.000000  112925.000000\n",
              "mean       12.664721      23.655670  ...       2.326032       0.221554\n",
              "std         6.254135       6.982702  ...       8.517106       0.415294\n",
              "min        -8.200000       2.600000  ...       0.000000       0.000000\n",
              "25%         8.100000      18.300000  ...       0.000000       0.000000\n",
              "50%        12.400000      23.100000  ...       0.000000       0.000000\n",
              "75%        17.200000      28.700000  ...       0.600000       0.000000\n",
              "max        33.900000      48.100000  ...     371.000000       1.000000\n",
              "\n",
              "[8 rows x 15 columns]"
            ]
          },
          "metadata": {
            "tags": []
          },
          "execution_count": 14
        }
      ]
    },
    {
      "cell_type": "markdown",
      "metadata": {
        "id": "vmfZewR7Hbxz",
        "colab_type": "text"
      },
      "source": [
        "There is always some kind of outliers in the dataset. We need to detect the outliers and remove them so they do not affect the model. The outlier is a value which is +/- 3 from its standard deviation value."
      ]
    },
    {
      "cell_type": "code",
      "metadata": {
        "id": "940WzvXhOKDF",
        "colab_type": "code",
        "colab": {}
      },
      "source": [
        "# Removing outliers from the dataset\n",
        "WeatherData = WeatherData[(np.abs(stats.zscore(WeatherData._get_numeric_data())) < 3).all(axis=1)]"
      ],
      "execution_count": 0,
      "outputs": []
    },
    {
      "cell_type": "code",
      "metadata": {
        "id": "6MicZTonOSbk",
        "colab_type": "code",
        "colab": {
          "base_uri": "https://localhost:8080/",
          "height": 458
        },
        "outputId": "1465633d-65e5-4596-a156-e5acbfaa1630"
      },
      "source": [
        "WeatherData.info()"
      ],
      "execution_count": 16,
      "outputs": [
        {
          "output_type": "stream",
          "text": [
            "<class 'pandas.core.frame.DataFrame'>\n",
            "Int64Index: 106447 entries, 0 to 142192\n",
            "Data columns (total 19 columns):\n",
            "Date             106447 non-null object\n",
            "MinTemp          106447 non-null float64\n",
            "MaxTemp          106447 non-null float64\n",
            "Rainfall         106447 non-null float64\n",
            "WindGustDir      106447 non-null object\n",
            "WindGustSpeed    106447 non-null float64\n",
            "WindDir9am       106447 non-null object\n",
            "WindDir3pm       106447 non-null object\n",
            "WindSpeed9am     106447 non-null float64\n",
            "WindSpeed3pm     106447 non-null float64\n",
            "Humidity9am      106447 non-null float64\n",
            "Humidity3pm      106447 non-null float64\n",
            "Pressure9am      106447 non-null float64\n",
            "Pressure3pm      106447 non-null float64\n",
            "Temp9am          106447 non-null float64\n",
            "Temp3pm          106447 non-null float64\n",
            "RainToday        106447 non-null int64\n",
            "RISK_MM          106447 non-null float64\n",
            "RainTomorrow     106447 non-null int64\n",
            "dtypes: float64(13), int64(2), object(4)\n",
            "memory usage: 16.2+ MB\n"
          ],
          "name": "stdout"
        }
      ]
    },
    {
      "cell_type": "markdown",
      "metadata": {
        "id": "MPdgyYv9HgSL",
        "colab_type": "text"
      },
      "source": [
        "#EDA- Exploratory Data Analysis\n",
        "\n",
        "We now need to understand which columns of the dataset are correlated with each other. This may help us to remove highly correlated values thus reducing the dimension of the dataset. "
      ]
    },
    {
      "cell_type": "code",
      "metadata": {
        "id": "vnD0g0BwPu49",
        "colab_type": "code",
        "colab": {
          "base_uri": "https://localhost:8080/",
          "height": 575
        },
        "outputId": "dffbf396-79e9-44ed-ceaf-150a1bfdcc8c"
      },
      "source": [
        "# Correlation Matrix between the columns\n",
        "plt.figure(figsize=(10, 8))\n",
        "sns.heatmap(WeatherData.corr(),cmap='YlGnBu')"
      ],
      "execution_count": 17,
      "outputs": [
        {
          "output_type": "execute_result",
          "data": {
            "text/plain": [
              "<matplotlib.axes._subplots.AxesSubplot at 0x7fc3d814bd30>"
            ]
          },
          "metadata": {
            "tags": []
          },
          "execution_count": 17
        },
        {
          "output_type": "display_data",
          "data": {
            "image/png": "[encoded data removed]",
            "text/plain": [
              "<Figure size 720x576 with 2 Axes>"
            ]
          },
          "metadata": {
            "tags": []
          }
        }
      ]
    },
    {
      "cell_type": "markdown",
      "metadata": {
        "id": "b6k_dsXtHjXL",
        "colab_type": "text"
      },
      "source": [
        "As we can see in the heatmap there is a strong correlation between Temperature at 3 PM and that day's maximum temperature there is also a very strong correlation between the pressure values too.\n",
        "\n",
        "We can plot a detailed graph on the highly correlated features.\n"
      ]
    },
    {
      "cell_type": "code",
      "metadata": {
        "id": "qhCSLB1BP8xa",
        "colab_type": "code",
        "colab": {
          "base_uri": "https://localhost:8080/",
          "height": 851
        },
        "outputId": "e1cad40a-d270-4b6e-892b-85ea50aed3c3"
      },
      "source": [
        "# Plotting the relationship graphs\n",
        "\n",
        "WeatherData.plot(x=\"Date\", y=[\"MaxTemp\", \"Temp3pm\"], kind=\"line\")\n",
        "plt.title(\"MaxTemp vs Temp3pm\")\n",
        "plt.show()\n",
        "WeatherData.plot(x=\"Date\", y=[\"MinTemp\", \"Temp9am\"], kind=\"line\")\n",
        "plt.title(\"MinTemp vs Temp9am\")\n",
        "plt.show()\n",
        "WeatherData.plot(x=\"Date\", y=[\"Pressure9am\", \"Pressure3pm\"], kind=\"line\")\n",
        "plt.title(\"Pressure9am vs Pressumre3pm\")\n",
        "plt.show()"
      ],
      "execution_count": 18,
      "outputs": [
        {
          "output_type": "display_data",
          "data": {
            "image/png": "[encoded data removed]",
            "text/plain": [
              "<Figure size 432x288 with 1 Axes>"
            ]
          },
          "metadata": {
            "tags": []
          }
        },
        {
          "output_type": "display_data",
          "data": {
            "image/png": "[encoded data removed]",
            "text/plain": [
              "<Figure size 432x288 with 1 Axes>"
            ]
          },
          "metadata": {
            "tags": []
          }
        },
        {
          "output_type": "display_data",
          "data": {
            "image/png": "[encoded data removed]",
            "text/plain": [
              "<Figure size 432x288 with 1 Axes>"
            ]
          },
          "metadata": {
            "tags": []
          }
        }
      ]
    },
    {
      "cell_type": "markdown",
      "metadata": {
        "id": "7VlIq1lbHmwR",
        "colab_type": "text"
      },
      "source": [
        "We can see above that the Temperature at 3 PM and Maximum temperature of the day have almost the same values. Similarly, the Temperature at 9 AM and Minimum temperature have the same values.\n",
        "\n",
        "We can also see that the Pressure throughout the day remains kind of same.\n",
        "\n",
        "Let us dig deeper into these columns to find how are they related to each other.\n"
      ]
    },
    {
      "cell_type": "code",
      "metadata": {
        "id": "fO4VYj4oQ13P",
        "colab_type": "code",
        "colab": {
          "base_uri": "https://localhost:8080/",
          "height": 1000
        },
        "outputId": "b269df39-58a6-4928-ce9a-1b078499132c"
      },
      "source": [
        "sns.lineplot(data=WeatherData, x='MaxTemp', y='Temp3pm')\n",
        "plt.title(\"MaxTemp vs Temp3pm\")\n",
        "plt.show()\n",
        "sns.lineplot(data=WeatherData, x='MinTemp', y='Temp3pm')\n",
        "plt.title(\"MinTemp vs Temp3pm\")\n",
        "plt.show()\n",
        "sns.lineplot(data=WeatherData, x='MaxTemp', y='Temp9am')\n",
        "plt.title(\"MaxTemp vs Temp9am\")\n",
        "plt.show()\n",
        "sns.lineplot(data=WeatherData, x='MinTemp', y='Temp9am')\n",
        "plt.title(\"MinTemp vs Temp9am\")\n",
        "plt.show()\n",
        "sns.lineplot(data=WeatherData, x='Pressure9am', y='Pressure3pm')\n",
        "plt.title(\"Pressure9am vs Pressure3pm\")\n",
        "plt.show()\n",
        "plt.tight_layout()"
      ],
      "execution_count": 19,
      "outputs": [
        {
          "output_type": "display_data",
          "data": {
            "image/png": "[encoded data removed]",
            "text/plain": [
              "<Figure size 432x288 with 1 Axes>"
            ]
          },
          "metadata": {
            "tags": []
          }
        },
        {
          "output_type": "display_data",
          "data": {
            "image/png": "[encoded data removed]",
            "text/plain": [
              "<Figure size 432x288 with 1 Axes>"
            ]
          },
          "metadata": {
            "tags": []
          }
        },
        {
          "output_type": "display_data",
          "data": {
            "image/png": "[encoded data removed]",
            "text/plain": [
              "<Figure size 432x288 with 1 Axes>"
            ]
          },
          "metadata": {
            "tags": []
          }
        },
        {
          "output_type": "display_data",
          "data": {
            "image/png": "[encoded data removed]",
            "text/plain": [
              "<Figure size 432x288 with 1 Axes>"
            ]
          },
          "metadata": {
            "tags": []
          }
        },
        {
          "output_type": "display_data",
          "data": {
            "image/png": "[encoded data removed]",
            "text/plain": [
              "<Figure size 432x288 with 1 Axes>"
            ]
          },
          "metadata": {
            "tags": []
          }
        },
        {
          "output_type": "display_data",
          "data": {
            "text/plain": [
              "<Figure size 432x288 with 0 Axes>"
            ]
          },
          "metadata": {
            "tags": []
          }
        }
      ]
    },
    {
      "cell_type": "markdown",
      "metadata": {
        "id": "z9XdD2_hHq9D",
        "colab_type": "text"
      },
      "source": [
        "We can see on the above graph that all the temperature values are linearly correlated with each other.\n",
        "\n",
        "Also, the pressure during the day is linearly correlated.\n"
      ]
    },
    {
      "cell_type": "markdown",
      "metadata": {
        "id": "TiesuxcGhiU7",
        "colab_type": "text"
      },
      "source": [
        "#Selecting the Algorithm\n",
        "\n",
        "> The first model I tested was the Logistics Regression. It is used when we want to answer yes/no type questions. Here, we are answering whether there will be rain tomorrow in Australia. Logistics regression finds the relation between one dependent variable and multiple independent variables. It uses a sigmoid function to calculate the relationships between the variables by calculating probabilities out of the prediction values. Using logistics regression we got 98% accuracy in 0.16 seconds.\n",
        "\n",
        "> Decision tree creates a tree out of the dataset, it splits the dataset in binary and continuous to perform the prediction till no more splits are possible. It performs prediction just like human rationale thinking process, questions are answered in the yes/no format till it reaches to the leaf node and leaf node will be the answer (prediction). Using Decision tree we get 100% accuracy in 0.027 seconds.\n",
        "\n",
        "> Random Forest classification is an ensemble learning scheme. It creates multiple decision trees and the prediction output from all the decision trees is evaluated. The most predicted output from these decision trees becomes the final predicted value. Using random forest classifier we got 100% accuracy in 1.95 seconds.\n",
        "\n",
        "> I chose to use Logistics Regression model for the prediction because Decision tree and Random Forest classification models produce results with 100% accuracy, this is the example of a model which is overfitted. Overfitting is a condition when the model trains even on the noise or randomness of the data and it then produces 100% accurate model for the provided dataset. This affects the performance of the model in new unseen data. Because of overfitting, the prediction accuracy for new data is deteriorated. Another reason for not selecting Random Forest classification is the processing time, it is taking 1.95 seconds compared to 0.16 seconds of Logistics regression.\n",
        "\n",
        "\n",
        "\n"
      ]
    },
    {
      "cell_type": "markdown",
      "metadata": {
        "id": "g4HfWkThWtyO",
        "colab_type": "text"
      },
      "source": [
        "# Data Preparation"
      ]
    },
    {
      "cell_type": "markdown",
      "metadata": {
        "id": "b5JfBpbBW3ig",
        "colab_type": "text"
      },
      "source": [
        "First we are dropping 'Date' column as it is not required for modelling."
      ]
    },
    {
      "cell_type": "code",
      "metadata": {
        "id": "NkgNOTw4Y2jO",
        "colab_type": "code",
        "colab": {}
      },
      "source": [
        "# Dropping Date column \n",
        "\n",
        "WeatherData = WeatherData.drop(columns=['Date'],axis=1)"
      ],
      "execution_count": 0,
      "outputs": []
    },
    {
      "cell_type": "markdown",
      "metadata": {
        "id": "FMOC0HQeXEHX",
        "colab_type": "text"
      },
      "source": [
        "There are three columns in the dataset which has categorical values. As the logistic regressor cannot work with categorical values we need to create dummy variables."
      ]
    },
    {
      "cell_type": "code",
      "metadata": {
        "id": "6Rxlhrcyar4c",
        "colab_type": "code",
        "colab": {}
      },
      "source": [
        "# Converting categorical columns to numeric \n",
        "\n",
        "categorical_values = ['WindGustDir', 'WindDir3pm', 'WindDir9am']\n",
        "WeatherData = pd.get_dummies(WeatherData, columns = categorical_values)"
      ],
      "execution_count": 0,
      "outputs": []
    },
    {
      "cell_type": "markdown",
      "metadata": {
        "id": "CVSqQChJYXZU",
        "colab_type": "text"
      },
      "source": [
        "As we can see here we have values ranging from 0.1 to 1000, we need to scale these values so we can find which features of the dataset are best for predicting the rainfall."
      ]
    },
    {
      "cell_type": "code",
      "metadata": {
        "id": "laEWjTO6XXSV",
        "colab_type": "code",
        "outputId": "25c1da05-a3e1-46d7-e921-de9a8961f25c",
        "colab": {
          "base_uri": "https://localhost:8080/",
          "height": 224
        }
      },
      "source": [
        "WeatherData.head()"
      ],
      "execution_count": 0,
      "outputs": [
        {
          "output_type": "execute_result",
          "data": {
            "text/html": [
              "<div>\n",
              "<style scoped>\n",
              "    .dataframe tbody tr th:only-of-type {\n",
              "        vertical-align: middle;\n",
              "    }\n",
              "\n",
              "    .dataframe tbody tr th {\n",
              "        vertical-align: top;\n",
              "    }\n",
              "\n",
              "    .dataframe thead th {\n",
              "        text-align: right;\n",
              "    }\n",
              "</style>\n",
              "<table border=\"1\" class=\"dataframe\">\n",
              "  <thead>\n",
              "    <tr style=\"text-align: right;\">\n",
              "      <th></th>\n",
              "      <th>MinTemp</th>\n",
              "      <th>MaxTemp</th>\n",
              "      <th>Rainfall</th>\n",
              "      <th>WindGustSpeed</th>\n",
              "      <th>WindSpeed9am</th>\n",
              "      <th>WindSpeed3pm</th>\n",
              "      <th>Humidity9am</th>\n",
              "      <th>Humidity3pm</th>\n",
              "      <th>Pressure9am</th>\n",
              "      <th>Pressure3pm</th>\n",
              "      <th>Temp9am</th>\n",
              "      <th>Temp3pm</th>\n",
              "      <th>RainToday</th>\n",
              "      <th>RISK_MM</th>\n",
              "      <th>RainTomorrow</th>\n",
              "      <th>WindGustDir_E</th>\n",
              "      <th>WindGustDir_ENE</th>\n",
              "      <th>WindGustDir_ESE</th>\n",
              "      <th>WindGustDir_N</th>\n",
              "      <th>WindGustDir_NE</th>\n",
              "      <th>WindGustDir_NNE</th>\n",
              "      <th>WindGustDir_NNW</th>\n",
              "      <th>WindGustDir_NW</th>\n",
              "      <th>WindGustDir_S</th>\n",
              "      <th>WindGustDir_SE</th>\n",
              "      <th>WindGustDir_SSE</th>\n",
              "      <th>WindGustDir_SSW</th>\n",
              "      <th>WindGustDir_SW</th>\n",
              "      <th>WindGustDir_W</th>\n",
              "      <th>WindGustDir_WNW</th>\n",
              "      <th>WindGustDir_WSW</th>\n",
              "      <th>WindDir3pm_E</th>\n",
              "      <th>WindDir3pm_ENE</th>\n",
              "      <th>WindDir3pm_ESE</th>\n",
              "      <th>WindDir3pm_N</th>\n",
              "      <th>WindDir3pm_NE</th>\n",
              "      <th>WindDir3pm_NNE</th>\n",
              "      <th>WindDir3pm_NNW</th>\n",
              "      <th>WindDir3pm_NW</th>\n",
              "      <th>WindDir3pm_S</th>\n",
              "      <th>WindDir3pm_SE</th>\n",
              "      <th>WindDir3pm_SSE</th>\n",
              "      <th>WindDir3pm_SSW</th>\n",
              "      <th>WindDir3pm_SW</th>\n",
              "      <th>WindDir3pm_W</th>\n",
              "      <th>WindDir3pm_WNW</th>\n",
              "      <th>WindDir3pm_WSW</th>\n",
              "      <th>WindDir9am_E</th>\n",
              "      <th>WindDir9am_ENE</th>\n",
              "      <th>WindDir9am_ESE</th>\n",
              "      <th>WindDir9am_N</th>\n",
              "      <th>WindDir9am_NE</th>\n",
              "      <th>WindDir9am_NNE</th>\n",
              "      <th>WindDir9am_NNW</th>\n",
              "      <th>WindDir9am_NW</th>\n",
              "      <th>WindDir9am_S</th>\n",
              "      <th>WindDir9am_SE</th>\n",
              "      <th>WindDir9am_SSE</th>\n",
              "      <th>WindDir9am_SSW</th>\n",
              "      <th>WindDir9am_SW</th>\n",
              "      <th>WindDir9am_W</th>\n",
              "      <th>WindDir9am_WNW</th>\n",
              "      <th>WindDir9am_WSW</th>\n",
              "    </tr>\n",
              "  </thead>\n",
              "  <tbody>\n",
              "    <tr>\n",
              "      <th>0</th>\n",
              "      <td>13.4</td>\n",
              "      <td>22.9</td>\n",
              "      <td>0.6</td>\n",
              "      <td>44.0</td>\n",
              "      <td>20.0</td>\n",
              "      <td>24.0</td>\n",
              "      <td>71.0</td>\n",
              "      <td>22.0</td>\n",
              "      <td>1007.7</td>\n",
              "      <td>1007.1</td>\n",
              "      <td>16.9</td>\n",
              "      <td>21.8</td>\n",
              "      <td>0</td>\n",
              "      <td>0.0</td>\n",
              "      <td>0</td>\n",
              "      <td>0</td>\n",
              "      <td>0</td>\n",
              "      <td>0</td>\n",
              "      <td>0</td>\n",
              "      <td>0</td>\n",
              "      <td>0</td>\n",
              "      <td>0</td>\n",
              "      <td>0</td>\n",
              "      <td>0</td>\n",
              "      <td>0</td>\n",
              "      <td>0</td>\n",
              "      <td>0</td>\n",
              "      <td>0</td>\n",
              "      <td>1</td>\n",
              "      <td>0</td>\n",
              "      <td>0</td>\n",
              "      <td>0</td>\n",
              "      <td>0</td>\n",
              "      <td>0</td>\n",
              "      <td>0</td>\n",
              "      <td>0</td>\n",
              "      <td>0</td>\n",
              "      <td>0</td>\n",
              "      <td>0</td>\n",
              "      <td>0</td>\n",
              "      <td>0</td>\n",
              "      <td>0</td>\n",
              "      <td>0</td>\n",
              "      <td>0</td>\n",
              "      <td>0</td>\n",
              "      <td>1</td>\n",
              "      <td>0</td>\n",
              "      <td>0</td>\n",
              "      <td>0</td>\n",
              "      <td>0</td>\n",
              "      <td>0</td>\n",
              "      <td>0</td>\n",
              "      <td>0</td>\n",
              "      <td>0</td>\n",
              "      <td>0</td>\n",
              "      <td>0</td>\n",
              "      <td>0</td>\n",
              "      <td>0</td>\n",
              "      <td>0</td>\n",
              "      <td>0</td>\n",
              "      <td>1</td>\n",
              "      <td>0</td>\n",
              "      <td>0</td>\n",
              "    </tr>\n",
              "    <tr>\n",
              "      <th>1</th>\n",
              "      <td>7.4</td>\n",
              "      <td>25.1</td>\n",
              "      <td>0.0</td>\n",
              "      <td>44.0</td>\n",
              "      <td>4.0</td>\n",
              "      <td>22.0</td>\n",
              "      <td>44.0</td>\n",
              "      <td>25.0</td>\n",
              "      <td>1010.6</td>\n",
              "      <td>1007.8</td>\n",
              "      <td>17.2</td>\n",
              "      <td>24.3</td>\n",
              "      <td>0</td>\n",
              "      <td>0.0</td>\n",
              "      <td>0</td>\n",
              "      <td>0</td>\n",
              "      <td>0</td>\n",
              "      <td>0</td>\n",
              "      <td>0</td>\n",
              "      <td>0</td>\n",
              "      <td>0</td>\n",
              "      <td>0</td>\n",
              "      <td>0</td>\n",
              "      <td>0</td>\n",
              "      <td>0</td>\n",
              "      <td>0</td>\n",
              "      <td>0</td>\n",
              "      <td>0</td>\n",
              "      <td>0</td>\n",
              "      <td>1</td>\n",
              "      <td>0</td>\n",
              "      <td>0</td>\n",
              "      <td>0</td>\n",
              "      <td>0</td>\n",
              "      <td>0</td>\n",
              "      <td>0</td>\n",
              "      <td>0</td>\n",
              "      <td>0</td>\n",
              "      <td>0</td>\n",
              "      <td>0</td>\n",
              "      <td>0</td>\n",
              "      <td>0</td>\n",
              "      <td>0</td>\n",
              "      <td>0</td>\n",
              "      <td>0</td>\n",
              "      <td>0</td>\n",
              "      <td>1</td>\n",
              "      <td>0</td>\n",
              "      <td>0</td>\n",
              "      <td>0</td>\n",
              "      <td>0</td>\n",
              "      <td>0</td>\n",
              "      <td>0</td>\n",
              "      <td>1</td>\n",
              "      <td>0</td>\n",
              "      <td>0</td>\n",
              "      <td>0</td>\n",
              "      <td>0</td>\n",
              "      <td>0</td>\n",
              "      <td>0</td>\n",
              "      <td>0</td>\n",
              "      <td>0</td>\n",
              "      <td>0</td>\n",
              "    </tr>\n",
              "    <tr>\n",
              "      <th>2</th>\n",
              "      <td>12.9</td>\n",
              "      <td>25.7</td>\n",
              "      <td>0.0</td>\n",
              "      <td>46.0</td>\n",
              "      <td>19.0</td>\n",
              "      <td>26.0</td>\n",
              "      <td>38.0</td>\n",
              "      <td>30.0</td>\n",
              "      <td>1007.6</td>\n",
              "      <td>1008.7</td>\n",
              "      <td>21.0</td>\n",
              "      <td>23.2</td>\n",
              "      <td>0</td>\n",
              "      <td>0.0</td>\n",
              "      <td>0</td>\n",
              "      <td>0</td>\n",
              "      <td>0</td>\n",
              "      <td>0</td>\n",
              "      <td>0</td>\n",
              "      <td>0</td>\n",
              "      <td>0</td>\n",
              "      <td>0</td>\n",
              "      <td>0</td>\n",
              "      <td>0</td>\n",
              "      <td>0</td>\n",
              "      <td>0</td>\n",
              "      <td>0</td>\n",
              "      <td>0</td>\n",
              "      <td>0</td>\n",
              "      <td>0</td>\n",
              "      <td>1</td>\n",
              "      <td>0</td>\n",
              "      <td>0</td>\n",
              "      <td>0</td>\n",
              "      <td>0</td>\n",
              "      <td>0</td>\n",
              "      <td>0</td>\n",
              "      <td>0</td>\n",
              "      <td>0</td>\n",
              "      <td>0</td>\n",
              "      <td>0</td>\n",
              "      <td>0</td>\n",
              "      <td>0</td>\n",
              "      <td>0</td>\n",
              "      <td>0</td>\n",
              "      <td>0</td>\n",
              "      <td>1</td>\n",
              "      <td>0</td>\n",
              "      <td>0</td>\n",
              "      <td>0</td>\n",
              "      <td>0</td>\n",
              "      <td>0</td>\n",
              "      <td>0</td>\n",
              "      <td>0</td>\n",
              "      <td>0</td>\n",
              "      <td>0</td>\n",
              "      <td>0</td>\n",
              "      <td>0</td>\n",
              "      <td>0</td>\n",
              "      <td>0</td>\n",
              "      <td>1</td>\n",
              "      <td>0</td>\n",
              "      <td>0</td>\n",
              "    </tr>\n",
              "    <tr>\n",
              "      <th>3</th>\n",
              "      <td>9.2</td>\n",
              "      <td>28.0</td>\n",
              "      <td>0.0</td>\n",
              "      <td>24.0</td>\n",
              "      <td>11.0</td>\n",
              "      <td>9.0</td>\n",
              "      <td>45.0</td>\n",
              "      <td>16.0</td>\n",
              "      <td>1017.6</td>\n",
              "      <td>1012.8</td>\n",
              "      <td>18.1</td>\n",
              "      <td>26.5</td>\n",
              "      <td>0</td>\n",
              "      <td>1.0</td>\n",
              "      <td>0</td>\n",
              "      <td>0</td>\n",
              "      <td>0</td>\n",
              "      <td>0</td>\n",
              "      <td>0</td>\n",
              "      <td>1</td>\n",
              "      <td>0</td>\n",
              "      <td>0</td>\n",
              "      <td>0</td>\n",
              "      <td>0</td>\n",
              "      <td>0</td>\n",
              "      <td>0</td>\n",
              "      <td>0</td>\n",
              "      <td>0</td>\n",
              "      <td>0</td>\n",
              "      <td>0</td>\n",
              "      <td>0</td>\n",
              "      <td>1</td>\n",
              "      <td>0</td>\n",
              "      <td>0</td>\n",
              "      <td>0</td>\n",
              "      <td>0</td>\n",
              "      <td>0</td>\n",
              "      <td>0</td>\n",
              "      <td>0</td>\n",
              "      <td>0</td>\n",
              "      <td>0</td>\n",
              "      <td>0</td>\n",
              "      <td>0</td>\n",
              "      <td>0</td>\n",
              "      <td>0</td>\n",
              "      <td>0</td>\n",
              "      <td>0</td>\n",
              "      <td>0</td>\n",
              "      <td>0</td>\n",
              "      <td>0</td>\n",
              "      <td>0</td>\n",
              "      <td>0</td>\n",
              "      <td>0</td>\n",
              "      <td>0</td>\n",
              "      <td>0</td>\n",
              "      <td>0</td>\n",
              "      <td>1</td>\n",
              "      <td>0</td>\n",
              "      <td>0</td>\n",
              "      <td>0</td>\n",
              "      <td>0</td>\n",
              "      <td>0</td>\n",
              "      <td>0</td>\n",
              "    </tr>\n",
              "    <tr>\n",
              "      <th>4</th>\n",
              "      <td>17.5</td>\n",
              "      <td>32.3</td>\n",
              "      <td>1.0</td>\n",
              "      <td>41.0</td>\n",
              "      <td>7.0</td>\n",
              "      <td>20.0</td>\n",
              "      <td>82.0</td>\n",
              "      <td>33.0</td>\n",
              "      <td>1010.8</td>\n",
              "      <td>1006.0</td>\n",
              "      <td>17.8</td>\n",
              "      <td>29.7</td>\n",
              "      <td>0</td>\n",
              "      <td>0.2</td>\n",
              "      <td>0</td>\n",
              "      <td>0</td>\n",
              "      <td>0</td>\n",
              "      <td>0</td>\n",
              "      <td>0</td>\n",
              "      <td>0</td>\n",
              "      <td>0</td>\n",
              "      <td>0</td>\n",
              "      <td>0</td>\n",
              "      <td>0</td>\n",
              "      <td>0</td>\n",
              "      <td>0</td>\n",
              "      <td>0</td>\n",
              "      <td>0</td>\n",
              "      <td>1</td>\n",
              "      <td>0</td>\n",
              "      <td>0</td>\n",
              "      <td>0</td>\n",
              "      <td>0</td>\n",
              "      <td>0</td>\n",
              "      <td>0</td>\n",
              "      <td>0</td>\n",
              "      <td>0</td>\n",
              "      <td>0</td>\n",
              "      <td>1</td>\n",
              "      <td>0</td>\n",
              "      <td>0</td>\n",
              "      <td>0</td>\n",
              "      <td>0</td>\n",
              "      <td>0</td>\n",
              "      <td>0</td>\n",
              "      <td>0</td>\n",
              "      <td>0</td>\n",
              "      <td>0</td>\n",
              "      <td>1</td>\n",
              "      <td>0</td>\n",
              "      <td>0</td>\n",
              "      <td>0</td>\n",
              "      <td>0</td>\n",
              "      <td>0</td>\n",
              "      <td>0</td>\n",
              "      <td>0</td>\n",
              "      <td>0</td>\n",
              "      <td>0</td>\n",
              "      <td>0</td>\n",
              "      <td>0</td>\n",
              "      <td>0</td>\n",
              "      <td>0</td>\n",
              "      <td>0</td>\n",
              "    </tr>\n",
              "  </tbody>\n",
              "</table>\n",
              "</div>"
            ],
            "text/plain": [
              "   MinTemp  MaxTemp  Rainfall  ...  WindDir9am_W  WindDir9am_WNW  WindDir9am_WSW\n",
              "0     13.4     22.9       0.6  ...             1               0               0\n",
              "1      7.4     25.1       0.0  ...             0               0               0\n",
              "2     12.9     25.7       0.0  ...             1               0               0\n",
              "3      9.2     28.0       0.0  ...             0               0               0\n",
              "4     17.5     32.3       1.0  ...             0               0               0\n",
              "\n",
              "[5 rows x 63 columns]"
            ]
          },
          "metadata": {
            "tags": []
          },
          "execution_count": 59
        }
      ]
    },
    {
      "cell_type": "code",
      "metadata": {
        "id": "FJecdxJKXTxA",
        "colab_type": "code",
        "colab": {}
      },
      "source": [
        "#Scaling the values from -1 to 1.\n",
        "\n",
        "min_max_scale = MinMaxScaler()\n",
        "\n",
        "WeatherData = pd.DataFrame(min_max_scale.fit_transform(WeatherData),columns = WeatherData.columns)"
      ],
      "execution_count": 0,
      "outputs": []
    },
    {
      "cell_type": "markdown",
      "metadata": {
        "id": "JxfnMoZ-ZQ1T",
        "colab_type": "text"
      },
      "source": [
        "All the values are now scaled within -1 to 1 range."
      ]
    },
    {
      "cell_type": "code",
      "metadata": {
        "id": "cAIu6fXzYx3Z",
        "colab_type": "code",
        "outputId": "87330f46-2d7d-4013-e691-6138dc1087ab",
        "colab": {
          "base_uri": "https://localhost:8080/",
          "height": 224
        }
      },
      "source": [
        "WeatherData.head()"
      ],
      "execution_count": 0,
      "outputs": [
        {
          "output_type": "execute_result",
          "data": {
            "text/html": [
              "<div>\n",
              "<style scoped>\n",
              "    .dataframe tbody tr th:only-of-type {\n",
              "        vertical-align: middle;\n",
              "    }\n",
              "\n",
              "    .dataframe tbody tr th {\n",
              "        vertical-align: top;\n",
              "    }\n",
              "\n",
              "    .dataframe thead th {\n",
              "        text-align: right;\n",
              "    }\n",
              "</style>\n",
              "<table border=\"1\" class=\"dataframe\">\n",
              "  <thead>\n",
              "    <tr style=\"text-align: right;\">\n",
              "      <th></th>\n",
              "      <th>MinTemp</th>\n",
              "      <th>MaxTemp</th>\n",
              "      <th>Rainfall</th>\n",
              "      <th>WindGustSpeed</th>\n",
              "      <th>WindSpeed9am</th>\n",
              "      <th>WindSpeed3pm</th>\n",
              "      <th>Humidity9am</th>\n",
              "      <th>Humidity3pm</th>\n",
              "      <th>Pressure9am</th>\n",
              "      <th>Pressure3pm</th>\n",
              "      <th>Temp9am</th>\n",
              "      <th>Temp3pm</th>\n",
              "      <th>RainToday</th>\n",
              "      <th>RISK_MM</th>\n",
              "      <th>RainTomorrow</th>\n",
              "      <th>WindGustDir_E</th>\n",
              "      <th>WindGustDir_ENE</th>\n",
              "      <th>WindGustDir_ESE</th>\n",
              "      <th>WindGustDir_N</th>\n",
              "      <th>WindGustDir_NE</th>\n",
              "      <th>WindGustDir_NNE</th>\n",
              "      <th>WindGustDir_NNW</th>\n",
              "      <th>WindGustDir_NW</th>\n",
              "      <th>WindGustDir_S</th>\n",
              "      <th>WindGustDir_SE</th>\n",
              "      <th>WindGustDir_SSE</th>\n",
              "      <th>WindGustDir_SSW</th>\n",
              "      <th>WindGustDir_SW</th>\n",
              "      <th>WindGustDir_W</th>\n",
              "      <th>WindGustDir_WNW</th>\n",
              "      <th>WindGustDir_WSW</th>\n",
              "      <th>WindDir3pm_E</th>\n",
              "      <th>WindDir3pm_ENE</th>\n",
              "      <th>WindDir3pm_ESE</th>\n",
              "      <th>WindDir3pm_N</th>\n",
              "      <th>WindDir3pm_NE</th>\n",
              "      <th>WindDir3pm_NNE</th>\n",
              "      <th>WindDir3pm_NNW</th>\n",
              "      <th>WindDir3pm_NW</th>\n",
              "      <th>WindDir3pm_S</th>\n",
              "      <th>WindDir3pm_SE</th>\n",
              "      <th>WindDir3pm_SSE</th>\n",
              "      <th>WindDir3pm_SSW</th>\n",
              "      <th>WindDir3pm_SW</th>\n",
              "      <th>WindDir3pm_W</th>\n",
              "      <th>WindDir3pm_WNW</th>\n",
              "      <th>WindDir3pm_WSW</th>\n",
              "      <th>WindDir9am_E</th>\n",
              "      <th>WindDir9am_ENE</th>\n",
              "      <th>WindDir9am_ESE</th>\n",
              "      <th>WindDir9am_N</th>\n",
              "      <th>WindDir9am_NE</th>\n",
              "      <th>WindDir9am_NNE</th>\n",
              "      <th>WindDir9am_NNW</th>\n",
              "      <th>WindDir9am_NW</th>\n",
              "      <th>WindDir9am_S</th>\n",
              "      <th>WindDir9am_SE</th>\n",
              "      <th>WindDir9am_SSE</th>\n",
              "      <th>WindDir9am_SSW</th>\n",
              "      <th>WindDir9am_SW</th>\n",
              "      <th>WindDir9am_W</th>\n",
              "      <th>WindDir9am_WNW</th>\n",
              "      <th>WindDir9am_WSW</th>\n",
              "    </tr>\n",
              "  </thead>\n",
              "  <tbody>\n",
              "    <tr>\n",
              "      <th>0</th>\n",
              "      <td>0.518717</td>\n",
              "      <td>0.464198</td>\n",
              "      <td>0.021429</td>\n",
              "      <td>0.506849</td>\n",
              "      <td>0.486486</td>\n",
              "      <td>0.523810</td>\n",
              "      <td>0.674157</td>\n",
              "      <td>0.22</td>\n",
              "      <td>0.268409</td>\n",
              "      <td>0.309353</td>\n",
              "      <td>0.478723</td>\n",
              "      <td>0.472081</td>\n",
              "      <td>0.0</td>\n",
              "      <td>0.000000</td>\n",
              "      <td>0.0</td>\n",
              "      <td>0.0</td>\n",
              "      <td>0.0</td>\n",
              "      <td>0.0</td>\n",
              "      <td>0.0</td>\n",
              "      <td>0.0</td>\n",
              "      <td>0.0</td>\n",
              "      <td>0.0</td>\n",
              "      <td>0.0</td>\n",
              "      <td>0.0</td>\n",
              "      <td>0.0</td>\n",
              "      <td>0.0</td>\n",
              "      <td>0.0</td>\n",
              "      <td>0.0</td>\n",
              "      <td>1.0</td>\n",
              "      <td>0.0</td>\n",
              "      <td>0.0</td>\n",
              "      <td>0.0</td>\n",
              "      <td>0.0</td>\n",
              "      <td>0.0</td>\n",
              "      <td>0.0</td>\n",
              "      <td>0.0</td>\n",
              "      <td>0.0</td>\n",
              "      <td>0.0</td>\n",
              "      <td>0.0</td>\n",
              "      <td>0.0</td>\n",
              "      <td>0.0</td>\n",
              "      <td>0.0</td>\n",
              "      <td>0.0</td>\n",
              "      <td>0.0</td>\n",
              "      <td>0.0</td>\n",
              "      <td>1.0</td>\n",
              "      <td>0.0</td>\n",
              "      <td>0.0</td>\n",
              "      <td>0.0</td>\n",
              "      <td>0.0</td>\n",
              "      <td>0.0</td>\n",
              "      <td>0.0</td>\n",
              "      <td>0.0</td>\n",
              "      <td>0.0</td>\n",
              "      <td>0.0</td>\n",
              "      <td>0.0</td>\n",
              "      <td>0.0</td>\n",
              "      <td>0.0</td>\n",
              "      <td>0.0</td>\n",
              "      <td>0.0</td>\n",
              "      <td>1.0</td>\n",
              "      <td>0.0</td>\n",
              "      <td>0.0</td>\n",
              "    </tr>\n",
              "    <tr>\n",
              "      <th>1</th>\n",
              "      <td>0.358289</td>\n",
              "      <td>0.518519</td>\n",
              "      <td>0.000000</td>\n",
              "      <td>0.506849</td>\n",
              "      <td>0.054054</td>\n",
              "      <td>0.476190</td>\n",
              "      <td>0.370787</td>\n",
              "      <td>0.25</td>\n",
              "      <td>0.337292</td>\n",
              "      <td>0.326139</td>\n",
              "      <td>0.486702</td>\n",
              "      <td>0.535533</td>\n",
              "      <td>0.0</td>\n",
              "      <td>0.000000</td>\n",
              "      <td>0.0</td>\n",
              "      <td>0.0</td>\n",
              "      <td>0.0</td>\n",
              "      <td>0.0</td>\n",
              "      <td>0.0</td>\n",
              "      <td>0.0</td>\n",
              "      <td>0.0</td>\n",
              "      <td>0.0</td>\n",
              "      <td>0.0</td>\n",
              "      <td>0.0</td>\n",
              "      <td>0.0</td>\n",
              "      <td>0.0</td>\n",
              "      <td>0.0</td>\n",
              "      <td>0.0</td>\n",
              "      <td>0.0</td>\n",
              "      <td>1.0</td>\n",
              "      <td>0.0</td>\n",
              "      <td>0.0</td>\n",
              "      <td>0.0</td>\n",
              "      <td>0.0</td>\n",
              "      <td>0.0</td>\n",
              "      <td>0.0</td>\n",
              "      <td>0.0</td>\n",
              "      <td>0.0</td>\n",
              "      <td>0.0</td>\n",
              "      <td>0.0</td>\n",
              "      <td>0.0</td>\n",
              "      <td>0.0</td>\n",
              "      <td>0.0</td>\n",
              "      <td>0.0</td>\n",
              "      <td>0.0</td>\n",
              "      <td>0.0</td>\n",
              "      <td>1.0</td>\n",
              "      <td>0.0</td>\n",
              "      <td>0.0</td>\n",
              "      <td>0.0</td>\n",
              "      <td>0.0</td>\n",
              "      <td>0.0</td>\n",
              "      <td>0.0</td>\n",
              "      <td>1.0</td>\n",
              "      <td>0.0</td>\n",
              "      <td>0.0</td>\n",
              "      <td>0.0</td>\n",
              "      <td>0.0</td>\n",
              "      <td>0.0</td>\n",
              "      <td>0.0</td>\n",
              "      <td>0.0</td>\n",
              "      <td>0.0</td>\n",
              "      <td>0.0</td>\n",
              "    </tr>\n",
              "    <tr>\n",
              "      <th>2</th>\n",
              "      <td>0.505348</td>\n",
              "      <td>0.533333</td>\n",
              "      <td>0.000000</td>\n",
              "      <td>0.534247</td>\n",
              "      <td>0.459459</td>\n",
              "      <td>0.571429</td>\n",
              "      <td>0.303371</td>\n",
              "      <td>0.30</td>\n",
              "      <td>0.266033</td>\n",
              "      <td>0.347722</td>\n",
              "      <td>0.587766</td>\n",
              "      <td>0.507614</td>\n",
              "      <td>0.0</td>\n",
              "      <td>0.000000</td>\n",
              "      <td>0.0</td>\n",
              "      <td>0.0</td>\n",
              "      <td>0.0</td>\n",
              "      <td>0.0</td>\n",
              "      <td>0.0</td>\n",
              "      <td>0.0</td>\n",
              "      <td>0.0</td>\n",
              "      <td>0.0</td>\n",
              "      <td>0.0</td>\n",
              "      <td>0.0</td>\n",
              "      <td>0.0</td>\n",
              "      <td>0.0</td>\n",
              "      <td>0.0</td>\n",
              "      <td>0.0</td>\n",
              "      <td>0.0</td>\n",
              "      <td>0.0</td>\n",
              "      <td>1.0</td>\n",
              "      <td>0.0</td>\n",
              "      <td>0.0</td>\n",
              "      <td>0.0</td>\n",
              "      <td>0.0</td>\n",
              "      <td>0.0</td>\n",
              "      <td>0.0</td>\n",
              "      <td>0.0</td>\n",
              "      <td>0.0</td>\n",
              "      <td>0.0</td>\n",
              "      <td>0.0</td>\n",
              "      <td>0.0</td>\n",
              "      <td>0.0</td>\n",
              "      <td>0.0</td>\n",
              "      <td>0.0</td>\n",
              "      <td>0.0</td>\n",
              "      <td>1.0</td>\n",
              "      <td>0.0</td>\n",
              "      <td>0.0</td>\n",
              "      <td>0.0</td>\n",
              "      <td>0.0</td>\n",
              "      <td>0.0</td>\n",
              "      <td>0.0</td>\n",
              "      <td>0.0</td>\n",
              "      <td>0.0</td>\n",
              "      <td>0.0</td>\n",
              "      <td>0.0</td>\n",
              "      <td>0.0</td>\n",
              "      <td>0.0</td>\n",
              "      <td>0.0</td>\n",
              "      <td>1.0</td>\n",
              "      <td>0.0</td>\n",
              "      <td>0.0</td>\n",
              "    </tr>\n",
              "    <tr>\n",
              "      <th>3</th>\n",
              "      <td>0.406417</td>\n",
              "      <td>0.590123</td>\n",
              "      <td>0.000000</td>\n",
              "      <td>0.232877</td>\n",
              "      <td>0.243243</td>\n",
              "      <td>0.166667</td>\n",
              "      <td>0.382022</td>\n",
              "      <td>0.16</td>\n",
              "      <td>0.503563</td>\n",
              "      <td>0.446043</td>\n",
              "      <td>0.510638</td>\n",
              "      <td>0.591371</td>\n",
              "      <td>0.0</td>\n",
              "      <td>0.035971</td>\n",
              "      <td>0.0</td>\n",
              "      <td>0.0</td>\n",
              "      <td>0.0</td>\n",
              "      <td>0.0</td>\n",
              "      <td>0.0</td>\n",
              "      <td>1.0</td>\n",
              "      <td>0.0</td>\n",
              "      <td>0.0</td>\n",
              "      <td>0.0</td>\n",
              "      <td>0.0</td>\n",
              "      <td>0.0</td>\n",
              "      <td>0.0</td>\n",
              "      <td>0.0</td>\n",
              "      <td>0.0</td>\n",
              "      <td>0.0</td>\n",
              "      <td>0.0</td>\n",
              "      <td>0.0</td>\n",
              "      <td>1.0</td>\n",
              "      <td>0.0</td>\n",
              "      <td>0.0</td>\n",
              "      <td>0.0</td>\n",
              "      <td>0.0</td>\n",
              "      <td>0.0</td>\n",
              "      <td>0.0</td>\n",
              "      <td>0.0</td>\n",
              "      <td>0.0</td>\n",
              "      <td>0.0</td>\n",
              "      <td>0.0</td>\n",
              "      <td>0.0</td>\n",
              "      <td>0.0</td>\n",
              "      <td>0.0</td>\n",
              "      <td>0.0</td>\n",
              "      <td>0.0</td>\n",
              "      <td>0.0</td>\n",
              "      <td>0.0</td>\n",
              "      <td>0.0</td>\n",
              "      <td>0.0</td>\n",
              "      <td>0.0</td>\n",
              "      <td>0.0</td>\n",
              "      <td>0.0</td>\n",
              "      <td>0.0</td>\n",
              "      <td>0.0</td>\n",
              "      <td>1.0</td>\n",
              "      <td>0.0</td>\n",
              "      <td>0.0</td>\n",
              "      <td>0.0</td>\n",
              "      <td>0.0</td>\n",
              "      <td>0.0</td>\n",
              "      <td>0.0</td>\n",
              "    </tr>\n",
              "    <tr>\n",
              "      <th>4</th>\n",
              "      <td>0.628342</td>\n",
              "      <td>0.696296</td>\n",
              "      <td>0.035714</td>\n",
              "      <td>0.465753</td>\n",
              "      <td>0.135135</td>\n",
              "      <td>0.428571</td>\n",
              "      <td>0.797753</td>\n",
              "      <td>0.33</td>\n",
              "      <td>0.342043</td>\n",
              "      <td>0.282974</td>\n",
              "      <td>0.502660</td>\n",
              "      <td>0.672589</td>\n",
              "      <td>0.0</td>\n",
              "      <td>0.007194</td>\n",
              "      <td>0.0</td>\n",
              "      <td>0.0</td>\n",
              "      <td>0.0</td>\n",
              "      <td>0.0</td>\n",
              "      <td>0.0</td>\n",
              "      <td>0.0</td>\n",
              "      <td>0.0</td>\n",
              "      <td>0.0</td>\n",
              "      <td>0.0</td>\n",
              "      <td>0.0</td>\n",
              "      <td>0.0</td>\n",
              "      <td>0.0</td>\n",
              "      <td>0.0</td>\n",
              "      <td>0.0</td>\n",
              "      <td>1.0</td>\n",
              "      <td>0.0</td>\n",
              "      <td>0.0</td>\n",
              "      <td>0.0</td>\n",
              "      <td>0.0</td>\n",
              "      <td>0.0</td>\n",
              "      <td>0.0</td>\n",
              "      <td>0.0</td>\n",
              "      <td>0.0</td>\n",
              "      <td>0.0</td>\n",
              "      <td>1.0</td>\n",
              "      <td>0.0</td>\n",
              "      <td>0.0</td>\n",
              "      <td>0.0</td>\n",
              "      <td>0.0</td>\n",
              "      <td>0.0</td>\n",
              "      <td>0.0</td>\n",
              "      <td>0.0</td>\n",
              "      <td>0.0</td>\n",
              "      <td>0.0</td>\n",
              "      <td>1.0</td>\n",
              "      <td>0.0</td>\n",
              "      <td>0.0</td>\n",
              "      <td>0.0</td>\n",
              "      <td>0.0</td>\n",
              "      <td>0.0</td>\n",
              "      <td>0.0</td>\n",
              "      <td>0.0</td>\n",
              "      <td>0.0</td>\n",
              "      <td>0.0</td>\n",
              "      <td>0.0</td>\n",
              "      <td>0.0</td>\n",
              "      <td>0.0</td>\n",
              "      <td>0.0</td>\n",
              "      <td>0.0</td>\n",
              "    </tr>\n",
              "  </tbody>\n",
              "</table>\n",
              "</div>"
            ],
            "text/plain": [
              "    MinTemp   MaxTemp  Rainfall  ...  WindDir9am_W  WindDir9am_WNW  WindDir9am_WSW\n",
              "0  0.518717  0.464198  0.021429  ...           1.0             0.0             0.0\n",
              "1  0.358289  0.518519  0.000000  ...           0.0             0.0             0.0\n",
              "2  0.505348  0.533333  0.000000  ...           1.0             0.0             0.0\n",
              "3  0.406417  0.590123  0.000000  ...           0.0             0.0             0.0\n",
              "4  0.628342  0.696296  0.035714  ...           0.0             0.0             0.0\n",
              "\n",
              "[5 rows x 63 columns]"
            ]
          },
          "metadata": {
            "tags": []
          },
          "execution_count": 61
        }
      ]
    },
    {
      "cell_type": "markdown",
      "metadata": {
        "id": "cVNyNy0zZdB5",
        "colab_type": "text"
      },
      "source": [
        "We are predicting 'Rain Tomorrow' column, so we need to remove the column from the dataset."
      ]
    },
    {
      "cell_type": "code",
      "metadata": {
        "id": "6XkmK-BybTTt",
        "colab_type": "code",
        "colab": {}
      },
      "source": [
        "# Assigning Rain Tomorrow column to new variable\n",
        "\n",
        "Predict_RainTomorrow = WeatherData.RainTomorrow "
      ],
      "execution_count": 0,
      "outputs": []
    },
    {
      "cell_type": "code",
      "metadata": {
        "id": "u53IOBsLbVqt",
        "colab_type": "code",
        "colab": {}
      },
      "source": [
        "WeatherData = WeatherData.drop(columns=['RainTomorrow'],axis=1) # Removing the column from dataset"
      ],
      "execution_count": 0,
      "outputs": []
    },
    {
      "cell_type": "markdown",
      "metadata": {
        "id": "3fCP5nSlZw_p",
        "colab_type": "text"
      },
      "source": [
        "# Modelling\n",
        "\n",
        "We now need to create the model.\n",
        "\n",
        "To create the model the dataset should be split into two parts i.e. training data and testing data. 30% of data is test data and to create some randomness in splitting the data random state value is also provided.\n",
        "\n"
      ]
    },
    {
      "cell_type": "code",
      "metadata": {
        "id": "i-lQrxvwaEwT",
        "colab_type": "code",
        "colab": {}
      },
      "source": [
        "# We now need to slice the data in two part training data and test data.\n",
        "\n",
        "data_train, data_test, predict_train, predict_test = train_test_split(WeatherData, Predict_RainTomorrow, test_size=0.30, random_state=42)\n"
      ],
      "execution_count": 0,
      "outputs": []
    },
    {
      "cell_type": "code",
      "metadata": {
        "id": "uykGykIZbx2a",
        "colab_type": "code",
        "outputId": "84aba7e9-ccef-4528-92d2-22b7acfded85",
        "colab": {
          "base_uri": "https://localhost:8080/",
          "height": 34
        }
      },
      "source": [
        "data_train.shape"
      ],
      "execution_count": 0,
      "outputs": [
        {
          "output_type": "execute_result",
          "data": {
            "text/plain": [
              "(74512, 62)"
            ]
          },
          "metadata": {
            "tags": []
          },
          "execution_count": 65
        }
      ]
    },
    {
      "cell_type": "markdown",
      "metadata": {
        "id": "nqEmAHpcbwEf",
        "colab_type": "text"
      },
      "source": [
        "We can see here that the dataset have 62 data dimensions. We need to find which dimensions are relevant to the data.\n",
        "\n",
        "As the dataset had categorical values we are going to use Univariate Feature selection method for finding the relevant data columns."
      ]
    },
    {
      "cell_type": "code",
      "metadata": {
        "id": "OPt4Q3_CZNzv",
        "colab_type": "code",
        "colab": {}
      },
      "source": [
        "# Selecting relevant features\n",
        "\n",
        "Feature_Selection = SelectKBest(chi2, k=4).fit(data_train, predict_train)"
      ],
      "execution_count": 0,
      "outputs": []
    },
    {
      "cell_type": "markdown",
      "metadata": {
        "id": "0VF9iEttdFop",
        "colab_type": "text"
      },
      "source": [
        "We can see here that \"Risk_MM\", \"Rainfall\", \"RainToday\", \"Humidity3PM\" columns are highly relevant with our prediction variable."
      ]
    },
    {
      "cell_type": "code",
      "metadata": {
        "id": "q0pUhXt_cjge",
        "colab_type": "code",
        "outputId": "6fa90461-90ea-4aff-e90c-16d71518dad1",
        "colab": {
          "base_uri": "https://localhost:8080/",
          "height": 1000
        }
      },
      "source": [
        "# Lets see which are the columns with highest score\n",
        "best_features = {}\n",
        "for x,y in zip(Feature_Selection.scores_, data_train.columns):\n",
        "  best_features.update({x:y})\n",
        "  \n",
        "sorted(best_features.items())"
      ],
      "execution_count": 0,
      "outputs": [
        {
          "output_type": "execute_result",
          "data": {
            "text/plain": [
              "[(0.43543086208696014, 'WindGustDir_SSW'),\n",
              " (0.47606279270274, 'WindDir3pm_SSW'),\n",
              " (1.1606931122478747, 'WindDir9am_SW'),\n",
              " (1.7169791019904517, 'WindDir9am_NE'),\n",
              " (2.0014657758704697, 'WindDir3pm_WSW'),\n",
              " (2.720956465156387, 'WindDir9am_SSW'),\n",
              " (2.9741123163631404, 'WindGustDir_SW'),\n",
              " (6.718338991111975, 'WindGustDir_NNE'),\n",
              " (7.096098245073415, 'WindGustDir_S'),\n",
              " (9.98018366094062, 'Temp9am'),\n",
              " (11.669733052779714, 'MinTemp'),\n",
              " (12.178809836999353, 'WindGustDir_WSW'),\n",
              " (13.822320185699523, 'WindDir3pm_S'),\n",
              " (18.65096005852388, 'WindDir9am_WSW'),\n",
              " (20.42539666348725, 'WindDir3pm_SW'),\n",
              " (21.00884858239956, 'WindDir3pm_NNE'),\n",
              " (22.55617445425508, 'WindDir3pm_NE'),\n",
              " (28.10945094382724, 'WindGustDir_NE'),\n",
              " (32.57006854803574, 'WindGustDir_SSE'),\n",
              " (33.45728148484312, 'WindSpeed3pm'),\n",
              " (33.97669287446819, 'WindDir9am_WNW'),\n",
              " (41.48085408948637, 'WindSpeed9am'),\n",
              " (48.157853664192345, 'WindDir3pm_SSE'),\n",
              " (50.64546465303724, 'WindDir3pm_W'),\n",
              " (54.03399724734501, 'WindDir9am_ENE'),\n",
              " (55.71761120571645, 'WindDir3pm_SE'),\n",
              " (55.8405806198201, 'WindGustDir_SE'),\n",
              " (56.53441134582544, 'WindDir9am_S'),\n",
              " (56.71371746722297, 'WindDir9am_W'),\n",
              " (59.95150492426508, 'WindDir3pm_ENE'),\n",
              " (64.95489951228906, 'WindDir3pm_E'),\n",
              " (65.84052617172814, 'WindDir3pm_ESE'),\n",
              " (68.48603638601072, 'WindDir9am_NW'),\n",
              " (74.6098322052527, 'WindDir3pm_NNW'),\n",
              " (74.83777552003369, 'WindDir9am_SSE'),\n",
              " (86.14998997830266, 'WindDir3pm_NW'),\n",
              " (88.31028299664919, 'WindGustDir_ESE'),\n",
              " (89.05894221429983, 'WindDir9am_NNE'),\n",
              " (90.04068998264674, 'WindGustDir_NW'),\n",
              " (93.67623980788971, 'WindGustDir_N'),\n",
              " (97.39431739604356, 'WindGustDir_W'),\n",
              " (102.95455519527445, 'WindGustDir_ENE'),\n",
              " (110.44819845462963, 'WindGustDir_NNW'),\n",
              " (127.42356265352203, 'WindDir3pm_N'),\n",
              " (127.7622714028493, 'MaxTemp'),\n",
              " (132.10701344905357, 'WindGustDir_WNW'),\n",
              " (133.88978354442912, 'Pressure3pm'),\n",
              " (139.34610836738352, 'WindDir9am_ESE'),\n",
              " (147.01919290328433, 'WindDir3pm_WNW'),\n",
              " (158.52370898026072, 'WindDir9am_NNW'),\n",
              " (163.86335985584182, 'Pressure9am'),\n",
              " (172.83942716417323, 'WindGustDir_E'),\n",
              " (180.3571823497519, 'WindGustSpeed'),\n",
              " (183.84692553140303, 'Temp3pm'),\n",
              " (198.3049420562298, 'WindDir9am_E'),\n",
              " (201.39150476392624, 'WindDir9am_SE'),\n",
              " (326.2933550223992, 'Humidity9am'),\n",
              " (359.9378103638728, 'WindDir9am_N'),\n",
              " (1083.1748080665154, 'Humidity3pm'),\n",
              " (1745.2015948459525, 'Rainfall'),\n",
              " (4584.995821038866, 'RainToday'),\n",
              " (13465.041909018631, 'RISK_MM')]"
            ]
          },
          "metadata": {
            "tags": []
          },
          "execution_count": 67
        }
      ]
    },
    {
      "cell_type": "markdown",
      "metadata": {
        "id": "YCzb_8WCdf53",
        "colab_type": "text"
      },
      "source": [
        "We extracted 4 best features out of the 62 features. We are only going to use these 4 features for our model."
      ]
    },
    {
      "cell_type": "code",
      "metadata": {
        "id": "27ptJm59j6iy",
        "colab_type": "code",
        "colab": {}
      },
      "source": [
        "# Transform the dataset based on column relevance\n",
        "\n",
        "data_train = Feature_Selection.transform(data_train)\n",
        "\n",
        "data_test = Feature_Selection.transform(data_test)"
      ],
      "execution_count": 0,
      "outputs": []
    },
    {
      "cell_type": "code",
      "metadata": {
        "id": "RWwIwZTTpXsv",
        "colab_type": "code",
        "outputId": "ed3ea51e-dff5-4ba8-fb70-0d4d0df56950",
        "colab": {
          "base_uri": "https://localhost:8080/",
          "height": 34
        }
      },
      "source": [
        "data_train.shape"
      ],
      "execution_count": 0,
      "outputs": [
        {
          "output_type": "execute_result",
          "data": {
            "text/plain": [
              "(74512, 4)"
            ]
          },
          "metadata": {
            "tags": []
          },
          "execution_count": 69
        }
      ]
    },
    {
      "cell_type": "code",
      "metadata": {
        "id": "0HsUq1B4pbv9",
        "colab_type": "code",
        "outputId": "39b448bc-5a2e-4a04-d243-6a4410caa27b",
        "colab": {
          "base_uri": "https://localhost:8080/",
          "height": 34
        }
      },
      "source": [
        "data_test.shape"
      ],
      "execution_count": 0,
      "outputs": [
        {
          "output_type": "execute_result",
          "data": {
            "text/plain": [
              "(31935, 4)"
            ]
          },
          "metadata": {
            "tags": []
          },
          "execution_count": 70
        }
      ]
    },
    {
      "cell_type": "markdown",
      "metadata": {
        "id": "j6FnZF-We8lA",
        "colab_type": "text"
      },
      "source": [
        "Logistics regression model has been generated on the dataset.\n"
      ]
    },
    {
      "cell_type": "code",
      "metadata": {
        "id": "y4rRLBdAl4Lu",
        "colab_type": "code",
        "outputId": "fbad35eb-229c-4370-db23-5c4e0a273d99",
        "colab": {
          "base_uri": "https://localhost:8080/",
          "height": 68
        }
      },
      "source": [
        "# Logistics regression model is used for our purpose\n",
        "\n",
        "t=time.time()\n",
        "LogisticsRegressor = LogisticRegression(random_state=42)      \n",
        "LogisticsRegressor = LogisticsRegressor.fit(data_train, predict_train)\n",
        "print(\"Time Taken: \"+str(time.time()-t))"
      ],
      "execution_count": 0,
      "outputs": [
        {
          "output_type": "stream",
          "text": [
            "Time Taken: 0.16490554809570312\n"
          ],
          "name": "stdout"
        },
        {
          "output_type": "stream",
          "text": [
            "/usr/local/lib/python3.6/dist-packages/sklearn/linear_model/logistic.py:432: FutureWarning: Default solver will be changed to 'lbfgs' in 0.22. Specify a solver to silence this warning.\n",
            "  FutureWarning)\n"
          ],
          "name": "stderr"
        }
      ]
    },
    {
      "cell_type": "markdown",
      "metadata": {
        "id": "m2iXuHZjfYfK",
        "colab_type": "text"
      },
      "source": [
        "Testing the model with our test dataset we can see here we get 98% accuracy from the model."
      ]
    },
    {
      "cell_type": "code",
      "metadata": {
        "id": "_cQA3t5-l7U1",
        "colab_type": "code",
        "outputId": "d5bbefbd-43bc-413b-bba8-f137b520c947",
        "colab": {
          "base_uri": "https://localhost:8080/",
          "height": 34
        }
      },
      "source": [
        "# Making a prediction and calculting the accuracy\n",
        "\n",
        "data_prediction = LogisticsRegressor.predict(data_test)\n",
        "\n",
        "prediction_accuracy = accuracy_score(predict_test, data_prediction)\n",
        "\n",
        "print('Accuracy: ',prediction_accuracy)"
      ],
      "execution_count": 0,
      "outputs": [
        {
          "output_type": "stream",
          "text": [
            "Accuracy:  0.980460310004697\n"
          ],
          "name": "stdout"
        }
      ]
    },
    {
      "cell_type": "markdown",
      "metadata": {
        "id": "nKBMQ0GKf6BZ",
        "colab_type": "text"
      },
      "source": [
        "We can visualize classification model performance by plotting confusion matrix. There are two classes in confusion matrix i.e. yes/no (1,0). We can see here that there are 4 quadrants, the first quadrant (0,0) is known as True Negatives and as the name suggests the model predicted that no rainfall happened and it is true. The second quadrant (0,1) is False Positives we have no false positives. The third quadrant (1,0) is False Negatives and we get 624 false negatives out of 31935 records which is almost 2% of the test dataset. The fourth quadrant (1,1) is True Positive. "
      ]
    },
    {
      "cell_type": "code",
      "metadata": {
        "id": "O_xM6UjeoCT-",
        "colab_type": "code",
        "outputId": "73f4e00e-0a47-4129-821f-3be0a663ed99",
        "colab": {
          "base_uri": "https://localhost:8080/",
          "height": 286
        }
      },
      "source": [
        "confusionMatrix = confusion_matrix(predict_test, data_prediction)\n",
        "sns.heatmap(confusionMatrix, annot=True, fmt=\"d\",cmap='YlGnBu')"
      ],
      "execution_count": 0,
      "outputs": [
        {
          "output_type": "execute_result",
          "data": {
            "text/plain": [
              "<matplotlib.axes._subplots.AxesSubplot at 0x7fed9e2a60f0>"
            ]
          },
          "metadata": {
            "tags": []
          },
          "execution_count": 73
        },
        {
          "output_type": "display_data",
          "data": {
            "image/png": "[encoded data removed]",
            "text/plain": [
              "<Figure size 432x288 with 2 Axes>"
            ]
          },
          "metadata": {
            "tags": []
          }
        }
      ]
    },
    {
      "cell_type": "markdown",
      "metadata": {
        "id": "UVigXaUkjX_w",
        "colab_type": "text"
      },
      "source": [
        "# Fictional Data and Discussion\n",
        "\n",
        "To test the accuracy of the prediction model two random values were taken. \n",
        "\n",
        "\n",
        "\n",
        "1.   Interpolated values\n",
        "2.   Extrapolated values\n",
        "\n",
        "The accuracy of the model is 50%. We can see in the confusion matrix that one value was identified as false positive. If we look deeper the model is not fit for extrapolated value because during assignment-3 we removed the outliers from the dataset. The model was trained on the original clean data. As the extrapolated value is something which is outside of the dataset value the prediction result gets affected. So, to get the effective result out of the dataset we need to remove the outliers."
      ]
    },
    {
      "cell_type": "code",
      "metadata": {
        "id": "qK8xedKGa6kP",
        "colab_type": "code",
        "colab": {}
      },
      "source": [
        "#Lets create a fictional values regarding 5 features which are selected for the model and see how the prediction works\n",
        "testDataValues = [(0.021, 0., 0.035, 0.),\n",
        "                 (0.03,1.,0.02,1.)]\n",
        "testPredictValue = [(0),(0)]\n",
        "\n",
        "testDataset = pd.DataFrame(testDataValues,columns=['Rainfall','RainToday','RISK_MM','WindDir9am_N'])\n",
        "testPredictData = pd.DataFrame(testPredictValue,columns=['RainTomorrow'])\n",
        "testDataset = testDataset.to_numpy()\n",
        "testPredictData = testPredictData.to_numpy()"
      ],
      "execution_count": 0,
      "outputs": []
    },
    {
      "cell_type": "code",
      "metadata": {
        "id": "QzKUEZxRiI5I",
        "colab_type": "code",
        "outputId": "94eb7276-ead3-4cfa-f1c3-087d3128e71a",
        "colab": {
          "base_uri": "https://localhost:8080/",
          "height": 34
        }
      },
      "source": [
        "# Testing prediction accuracy\n",
        "\n",
        "testPrediction = LogisticsRegressor.predict(testDataset)\n",
        "\n",
        "prediction_accuracy = accuracy_score(testPredictData, testPrediction)\n",
        "\n",
        "print('Accuracy: ',prediction_accuracy)"
      ],
      "execution_count": 0,
      "outputs": [
        {
          "output_type": "stream",
          "text": [
            "Accuracy:  0.5\n"
          ],
          "name": "stdout"
        }
      ]
    },
    {
      "cell_type": "code",
      "metadata": {
        "id": "gQLZ6HnfkdMg",
        "colab_type": "code",
        "outputId": "174d27d9-1eed-4629-e362-035a76c1501f",
        "colab": {
          "base_uri": "https://localhost:8080/",
          "height": 286
        }
      },
      "source": [
        "confusionMatrix = confusion_matrix(testPredictData, testPrediction)\n",
        "sns.heatmap(confusionMatrix, annot=True, fmt=\"d\",cmap='YlGnBu')"
      ],
      "execution_count": 0,
      "outputs": [
        {
          "output_type": "execute_result",
          "data": {
            "text/plain": [
              "<matplotlib.axes._subplots.AxesSubplot at 0x7fed9e1b0240>"
            ]
          },
          "metadata": {
            "tags": []
          },
          "execution_count": 76
        },
        {
          "output_type": "display_data",
          "data": {
            "image/png": "[encoded data removed]",
            "text/plain": [
              "<Figure size 432x288 with 2 Axes>"
            ]
          },
          "metadata": {
            "tags": []
          }
        }
      ]
    },
    {
      "cell_type": "markdown",
      "metadata": {
        "id": "Nhx_E3pokRHg",
        "colab_type": "text"
      },
      "source": [
        "# Summary\n",
        "\n",
        "The data cleaning process was performed at first by removing all the irrelevant data features, missing values, and outliers. Exploratory data analysis was conducted and found the correlation between minimum, the maximum, temperature at 9 am and temperature at 3 pm columns. The analysis revealed that these columns are linearly correlated which means we only need minimum and maximum temperature values. Afterward, the data was scaled in -1 to 1 range, categorical values were converted into numerical values and the dataset was split into training and test dataset. Most important data features were extracted by using Univariate Feature Selection algorithm and the Logistics Regression model was built on these features.\n",
        "\n",
        "\n",
        "The model produced 98% accuracy on the test data. The model accuracy was reduced when outlier dataset was provided."
      ]
    }
  ]
}